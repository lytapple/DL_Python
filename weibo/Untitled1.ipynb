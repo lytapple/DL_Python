{
 "cells": [
  {
   "cell_type": "code",
   "execution_count": 30,
   "metadata": {},
   "outputs": [
    {
     "name": "stdout",
     "output_type": "stream",
     "text": [
      "https://api.weibo.com/oauth2/authorize?redirect_uri=http%3A//open.weibo.com/apps/1585453682/privilege/oauth&response_type=code&client_id=1585453682\n"
     ]
    }
   ],
   "source": [
    "from weibo import APIClient\n",
    "\n",
    "APP_KEY = '1585453682' # app key\n",
    "APP_SECRET = 'ecf81cd2b2857a5314f92fe110334e2a' # app secret\n",
    "CALLBACK_URL = 'http://open.weibo.com/apps/1585453682/privilege/oauth' # callback url\n",
    "client = APIClient(app_key=APP_KEY, app_secret=APP_SECRET, redirect_uri=CALLBACK_URL)\n",
    "url = client.get_authorize_url()\n",
    "print url"
   ]
  },
  {
   "cell_type": "code",
   "execution_count": 31,
   "metadata": {},
   "outputs": [
    {
     "data": {
      "text/plain": [
       "True"
      ]
     },
     "execution_count": 31,
     "metadata": {},
     "output_type": "execute_result"
    }
   ],
   "source": [
    "import webbrowser\n",
    "webbrowser.open_new(url)"
   ]
  },
  {
   "cell_type": "code",
   "execution_count": 33,
   "metadata": {},
   "outputs": [],
   "source": [
    "# 获取URL参数code:\n",
    "code = '9e2820a5f7e66589673666dcb49465f9'\n",
    "client = APIClient(app_key=APP_KEY, app_secret=APP_SECRET, redirect_uri=CALLBACK_URL)\n",
    "r = client.request_access_token(code)\n",
    "access_token = r.access_token # 新浪返回的token，类似abc123xyz456\n",
    "expires_in = r.expires_in # token过期的UNIX时间：http://zh.wikipedia.org/wiki/UNIX%E6%97%B6%E9%97%B4\n",
    "# TODO: 在此可保存access token\n",
    "client.set_access_token(access_token, expires_in)"
   ]
  },
  {
   "cell_type": "code",
   "execution_count": 45,
   "metadata": {},
   "outputs": [
    {
     "name": "stdout",
     "output_type": "stream",
     "text": [
      "2.00WfeTlGav5SjB3af6e031500GdSx2\n"
     ]
    }
   ],
   "source": [
    "print access_token"
   ]
  },
  {
   "cell_type": "code",
   "execution_count": 51,
   "metadata": {},
   "outputs": [
    {
     "ename": "APIError",
     "evalue": "APIError: 21335: request uid's value must be the current user, request: /2/statuses/user_timeline.json",
     "output_type": "error",
     "traceback": [
      "\u001b[1;31m---------------------------------------------------------------------------\u001b[0m",
      "\u001b[1;31mAPIError\u001b[0m                                  Traceback (most recent call last)",
      "\u001b[1;32m<ipython-input-51-062f2ff270b4>\u001b[0m in \u001b[0;36m<module>\u001b[1;34m()\u001b[0m\n\u001b[0;32m      1\u001b[0m \u001b[1;31m#print client.statuses.user_timeline.get()\u001b[0m\u001b[1;33m\u001b[0m\u001b[1;33m\u001b[0m\u001b[0m\n\u001b[0;32m      2\u001b[0m \u001b[1;31m#print client.statuses.update.post(status=u'测试OAuth 2.0发微博')\u001b[0m\u001b[1;33m\u001b[0m\u001b[1;33m\u001b[0m\u001b[0m\n\u001b[1;32m----> 3\u001b[1;33m \u001b[0mr\u001b[0m \u001b[1;33m=\u001b[0m \u001b[0mclient\u001b[0m\u001b[1;33m.\u001b[0m\u001b[0mstatuses\u001b[0m\u001b[1;33m.\u001b[0m\u001b[0muser_timeline\u001b[0m\u001b[1;33m.\u001b[0m\u001b[0mget\u001b[0m\u001b[1;33m(\u001b[0m\u001b[0muid\u001b[0m\u001b[1;33m=\u001b[0m\u001b[1;36m1918628847\u001b[0m\u001b[1;33m)\u001b[0m\u001b[1;33m\u001b[0m\u001b[0m\n\u001b[0m\u001b[0;32m      4\u001b[0m \u001b[1;32mfor\u001b[0m \u001b[0mst\u001b[0m \u001b[1;32min\u001b[0m \u001b[0mr\u001b[0m\u001b[1;33m.\u001b[0m\u001b[0mstatuses\u001b[0m\u001b[1;33m:\u001b[0m\u001b[1;33m\u001b[0m\u001b[0m\n\u001b[0;32m      5\u001b[0m     \u001b[1;32mprint\u001b[0m \u001b[0mst\u001b[0m\u001b[1;33m.\u001b[0m\u001b[0mtext\u001b[0m\u001b[1;33m\u001b[0m\u001b[0m\n",
      "\u001b[1;32mD:\\DevelopTools\\Anaconda3\\envs\\py27\\lib\\site-packages\\weibo.pyc\u001b[0m in \u001b[0;36m__call__\u001b[1;34m(self, **kw)\u001b[0m\n\u001b[0;32m    308\u001b[0m         \u001b[1;32mif\u001b[0m \u001b[0mmethod\u001b[0m\u001b[1;33m==\u001b[0m\u001b[0m_HTTP_POST\u001b[0m \u001b[1;32mand\u001b[0m \u001b[1;34m'pic'\u001b[0m \u001b[1;32min\u001b[0m \u001b[0mkw\u001b[0m\u001b[1;33m:\u001b[0m\u001b[1;33m\u001b[0m\u001b[0m\n\u001b[0;32m    309\u001b[0m             \u001b[0mmethod\u001b[0m \u001b[1;33m=\u001b[0m \u001b[0m_HTTP_UPLOAD\u001b[0m\u001b[1;33m\u001b[0m\u001b[0m\n\u001b[1;32m--> 310\u001b[1;33m         \u001b[1;32mreturn\u001b[0m \u001b[0m_http_call\u001b[0m\u001b[1;33m(\u001b[0m\u001b[1;34m'%s%s.json'\u001b[0m \u001b[1;33m%\u001b[0m \u001b[1;33m(\u001b[0m\u001b[0mself\u001b[0m\u001b[1;33m.\u001b[0m\u001b[0m_client\u001b[0m\u001b[1;33m.\u001b[0m\u001b[0mapi_url\u001b[0m\u001b[1;33m,\u001b[0m \u001b[0mself\u001b[0m\u001b[1;33m.\u001b[0m\u001b[0m_path\u001b[0m\u001b[1;33m)\u001b[0m\u001b[1;33m,\u001b[0m \u001b[0mmethod\u001b[0m\u001b[1;33m,\u001b[0m \u001b[0mself\u001b[0m\u001b[1;33m.\u001b[0m\u001b[0m_client\u001b[0m\u001b[1;33m.\u001b[0m\u001b[0maccess_token\u001b[0m\u001b[1;33m,\u001b[0m \u001b[1;33m**\u001b[0m\u001b[0mkw\u001b[0m\u001b[1;33m)\u001b[0m\u001b[1;33m\u001b[0m\u001b[0m\n\u001b[0m\u001b[0;32m    311\u001b[0m \u001b[1;33m\u001b[0m\u001b[0m\n\u001b[0;32m    312\u001b[0m     \u001b[1;32mdef\u001b[0m \u001b[0m__str__\u001b[0m\u001b[1;33m(\u001b[0m\u001b[0mself\u001b[0m\u001b[1;33m)\u001b[0m\u001b[1;33m:\u001b[0m\u001b[1;33m\u001b[0m\u001b[0m\n",
      "\u001b[1;32mD:\\DevelopTools\\Anaconda3\\envs\\py27\\lib\\site-packages\\weibo.pyc\u001b[0m in \u001b[0;36m_http_call\u001b[1;34m(the_url, method, authorization, **kw)\u001b[0m\n\u001b[0;32m    162\u001b[0m         \u001b[0mr\u001b[0m \u001b[1;33m=\u001b[0m \u001b[0m_parse_json\u001b[0m\u001b[1;33m(\u001b[0m\u001b[0mbody\u001b[0m\u001b[1;33m)\u001b[0m\u001b[1;33m\u001b[0m\u001b[0m\n\u001b[0;32m    163\u001b[0m         \u001b[1;32mif\u001b[0m \u001b[0mhasattr\u001b[0m\u001b[1;33m(\u001b[0m\u001b[0mr\u001b[0m\u001b[1;33m,\u001b[0m \u001b[1;34m'error_code'\u001b[0m\u001b[1;33m)\u001b[0m\u001b[1;33m:\u001b[0m\u001b[1;33m\u001b[0m\u001b[0m\n\u001b[1;32m--> 164\u001b[1;33m             \u001b[1;32mraise\u001b[0m \u001b[0mAPIError\u001b[0m\u001b[1;33m(\u001b[0m\u001b[0mr\u001b[0m\u001b[1;33m.\u001b[0m\u001b[0merror_code\u001b[0m\u001b[1;33m,\u001b[0m \u001b[0mr\u001b[0m\u001b[1;33m.\u001b[0m\u001b[0mget\u001b[0m\u001b[1;33m(\u001b[0m\u001b[1;34m'error'\u001b[0m\u001b[1;33m,\u001b[0m \u001b[1;34m''\u001b[0m\u001b[1;33m)\u001b[0m\u001b[1;33m,\u001b[0m \u001b[0mr\u001b[0m\u001b[1;33m.\u001b[0m\u001b[0mget\u001b[0m\u001b[1;33m(\u001b[0m\u001b[1;34m'request'\u001b[0m\u001b[1;33m,\u001b[0m \u001b[1;34m''\u001b[0m\u001b[1;33m)\u001b[0m\u001b[1;33m)\u001b[0m\u001b[1;33m\u001b[0m\u001b[0m\n\u001b[0m\u001b[0;32m    165\u001b[0m         \u001b[1;32mreturn\u001b[0m \u001b[0mr\u001b[0m\u001b[1;33m\u001b[0m\u001b[0m\n\u001b[0;32m    166\u001b[0m     \u001b[1;32mexcept\u001b[0m \u001b[0murllib2\u001b[0m\u001b[1;33m.\u001b[0m\u001b[0mHTTPError\u001b[0m\u001b[1;33m,\u001b[0m \u001b[0me\u001b[0m\u001b[1;33m:\u001b[0m\u001b[1;33m\u001b[0m\u001b[0m\n",
      "\u001b[1;31mAPIError\u001b[0m: APIError: 21335: request uid's value must be the current user, request: /2/statuses/user_timeline.json"
     ]
    }
   ],
   "source": [
    "#print client.statuses.user_timeline.get()\n",
    "#print client.statuses.update.post(status=u'测试OAuth 2.0发微博')\n",
    "r = client.statuses.user_timeline.get(uid=1918628847)\n",
    "for st in r.statuses:\n",
    "    print st.text\n",
    "#print client.statuses.upload.post(status=u'测试OAuth 2.0带图片发微博', pic=open('/Users/michael/test.png'))"
   ]
  },
  {
   "cell_type": "code",
   "execution_count": 52,
   "metadata": {},
   "outputs": [
    {
     "name": "stdout",
     "output_type": "stream",
     "text": [
      "20\n",
      "昵称：跟着老高去旅行\n",
      "简介：读万卷书，行万里路，两者关系如何？ 没有两者。路，就是书！\n",
      "位置：上海 徐汇区\n",
      "微博：高速公路免费时间：10月1日零时至10月8日24时，7座以下(含7座)载客车辆以及允许在普通收费公路行驶的摩托车将免费通行。无论如何，先想好十一去哪里！错峰出行， 拿走不谢！ ​\n",
      "昵称：洪升美食\n",
      "简介：《乐山名食》《乐山消费者最喜爱的美食》（乐山十大名小吃面馆）博海缘来携首同进，助你登上梦想高峰！实现人生价值，加盟培训电话0833—2434137\n",
      "位置：四川 乐山\n",
      "微博：同悦夕厂分享精彩的每一刻[围观][围观][围观][作揖][心]\n",
      "昵称：煮肘\n",
      "简介：全微博最政治不正确的人，未婚男，爱吃狗肉，真诚智慧，要找170CM左右身材好、21岁左右乖美女，长久相伴生宝宝。（2017年9月更新）具体见置顶微博\n",
      "位置：广东\n",
      "微博：现在的女人，大多看着就恶心，所以总是“被渣男甩”，不甩怎么办？供着？//@皮皮梁呦：我不知道是哪些人一天天的强调女权，说女权不如说人权好吧，我知道现在的女权，抽个烟，纹个身，说，cao，tmd老子是女的，老子就是爱做啥做啥，然后在外面什么b事也做不了，没事玩玩多p，去你们tmd女权吧，我学你们...全文： http://m.weibo.cn/1918628847/4154465621327211 ​\n",
      "昵称：武汉同城\n",
      "简介：@武汉同城 为本地优质博主提供推送支持，本地优质微博内容，将会被武汉同城选取，有机会获得头条推荐、push推荐、同城官微转发、同城频道展示等~欢迎与@武汉同城 互动。同时开启绿色通道申请个人橙V认证。武汉同城微博交流群：257789448。\n",
      "位置：湖北 武汉\n",
      "微博：#江城名博汇#和大V们一起来咵咵新武汉[心]//@武汉身边事: #江城名博汇# 第一次线下沙龙圆满成功~咵咵新武汉，让武汉，无微不至！\n",
      "昵称：天府早报\n",
      "简介：欢迎关注天府早报，新闻热线：028-86757777。合作QQ:2289439049。\n",
      "位置：四川 成都\n",
      "微博：【标准豆腐块！四川一高校近3000新生操场叠军被】9月19日开学季，@四川西南航空职业学院 举行了新生叠军被比赛，近3000名新生在操场上同时进行，场面十分壮观！只需3分钟的时间，一个个标准的“豆腐块”便完成了。（梨视频 ）http://t.cn/R0wVWjK ​​​\n",
      "昵称：中欧信使\n",
      "简介：外交部欧洲司官方微博“中欧信使”欢迎您。我们将及时发布重要对欧外交活动消息，介绍中国对欧政策、中欧关系以及欧洲各国政经动态和风土人情。\n",
      "位置：北京 朝阳区\n",
      "微博：#中欧关系# 【英国广播公司介绍：中欧班列等中国的五大国际基建撼动世界经济秩序】从“一带一路”国际合作高峰论坛，再到“金砖国家峰会”，都反映出中国的世界影响力正在提升，逐步撼动世界经济秩序。中欧班列、亚洲火车网络、中巴经济走廊、科伦坡港和非洲项目等连接了中国至世界各国的贸易。[赞] ​\n",
      "昵称：热门美食推荐\n",
      "简介：收集世界各地美食资讯，只做自己喜欢，做给自己心爱的人，一切尽在这里展现！\n",
      "位置：广东\n",
      "微博：【美味花蛤冬瓜汤】花蛤是一种常见海鲜，搭配好基友冬瓜，一起做成汤，非常美味哒！极富鲜味~ ​\n",
      "昵称：汽车娱乐星球\n",
      "简介：这儿有一个有意思的人和一台有温度的车，一档让你开眼界、升B格、乐抽筋的汽车综艺节目。\n",
      "位置：北京\n",
      "微博：#趣人趣车# 杜卡迪 959 Panigale 真车视频，白色车身还能看着这么霸气的车真不多[舔屏][舔屏][舔屏] http://t.cn/R0wOLMo ​\n",
      "昵称：中欧信使\n",
      "简介：外交部欧洲司官方微博“中欧信使”欢迎您。我们将及时发布重要对欧外交活动消息，介绍中国对欧政策、中欧关系以及欧洲各国政经动态和风土人情。\n",
      "位置：北京 朝阳区\n",
      "微博：#欧洲经济# 【意大利国内生产总值低速上升】经合组织发布的中期经济展望报告预计，意大利今明两年的国内生产总值增速分别为1.4%和1.2%。报告分析，经济增长得益于国内需求的增长和私人消费带动的就业增加。报告指出，新的税收优惠促进了固定投资增加，针对非金融公司的银行信贷依然没有增长。 ​​​​\n",
      "昵称：三江都市报\n",
      "简介：原《乐山晚报》，于2003年1月1日创刊。2009年5月18日，《乐山晚报》经国家新闻出版总署批准正式更名为《三江都市报》\n",
      "位置：四川 乐山\n",
      "微博：【乐山商行龙泉驿支行开业】今（21）日，乐山市商业银行龙泉驿支行正式开业。据了解，该支行是乐山市商业银行成都分行向下延伸的第二家支行，这标志着乐山市商业银行在成都的机构布局再次迈出了坚实的一步，同时也意味着乐山市商业银行以“成都区域、乐山区域”为双核的发展战略进一步走向深入。 ​\n",
      "昵称：三江都市报\n",
      "简介：原《乐山晚报》，于2003年1月1日创刊。2009年5月18日，《乐山晚报》经国家新闻出版总署批准正式更名为《三江都市报》\n",
      "位置：四川 乐山\n",
      "微博：【省钱！国庆黄金周收费公路对小型客车继续实施免费通行】交通部9月21日表示，“十一”黄金周期间，10月1日零时至10月8日24时，7座以下（含7座）载客车辆以及允许在全国普通收费公路行驶的摩托车将免费通行。普通公路以车辆通过收费站收费车道的时间为准，高速公路以车辆驶离出口收费车道时间为准。 ​\n",
      "昵称：三秦房产网\n",
      "简介：三秦房产网，一个有温度的媒体平台，不只关注房子，更关注你！ 购房热线：400-029-7716 官网：www.3qhouse.com\n",
      "位置：陕西 西安\n",
      "微博：【干货！强大的社保卡，这些功能你都了解吗？】人社部消息，我国已发出第10亿张社保卡，102项典型应用年底全部开通。养老、失业、医疗、工伤、生育，这些场合你都需要它，很多人却把社保卡仅仅当作医保卡！社保中断怎么办？跨省就业怎么转？如何挂失社保卡？戳↓↓关乎你的利益，别让社保卡“落灰”！ ...全文： http://m.weibo.cn/1708239021/4154462056548266 ​\n",
      "昵称：煮肘\n",
      "简介：全微博最政治不正确的人，未婚男，爱吃狗肉，真诚智慧，要找170CM左右身材好、21岁左右乖美女，长久相伴生宝宝。（2017年9月更新）具体见置顶微博\n",
      "位置：广东\n",
      "微博：君子当修身齐家治国平天下，岂能贪图享乐？我从来不去酒吧、夜店、夜总会等娱乐场所，甚至卡拉OK都基本不去，不抽烟不酗酒，不追星，不看明星综艺节目，生孩子教育好孩子，不是为我自己，而是家族、民族未来//@螺旋丸子汤：老徐对生孩子执念太重了吧 好好享受人生不好吗 [哈哈][哈哈][哈哈]\n",
      "昵称：董涛说车\n",
      "简介：湖北广播电视台首席主持人，全国首家广播直播呼叫中心发明人、创始人和负责人。\n",
      "位置：湖北\n",
      "微博：【周四直播互动帖】解答买车选车提问，分享车友用车感受，欢迎今晚18:30——19:30通过FM92.7收听《董涛说车》。可通过027-86866666热线以及本帖参与互动提问。 ​​​​\n",
      "\n",
      "话题：什么车是你开了一次就忘不掉的？\n",
      "车就像人一样，每辆车都有自己的性格，或好或坏，不同的性格也会给驾驶员带来不同的感受。...全文： http://m.weibo.cn/1097034821/4154461251466288 ​\n",
      "昵称：韩娱Doublek\n",
      "简介：韩娱搬运工\n",
      "位置：海外 美国\n",
      "微博：陆军现役入伍的#池昌旭#结束为期五周的新兵训练，因作为小队长表现优异，还凭借最高的训练分获得师团长颁发的“战友奖”，最终他被分配到江原道铁原炮兵旅团服役。 ​\n",
      "昵称：三江都市报\n",
      "简介：原《乐山晚报》，于2003年1月1日创刊。2009年5月18日，《乐山晚报》经国家新闻出版总署批准正式更名为《三江都市报》\n",
      "位置：四川 乐山\n",
      "微博：【峨眉一男子持假证开车上路 被拘留15日罚款3000元】9月20日9时30分，一男子持伪造的机动车驾驶证，驾驶一辆轻型普通货车行驶至峨眉山市峨山镇杨零路3公里处时，被@峨眉山景区交警 执勤民警当场查获。依照《中华人民共和国道路交通安全法》有关规定，公安机关对伪造的驾驶证予以收缴，并依法对其作出行...全文： http://m.weibo.cn/3195567804/4154459900615087 ​\n",
      "昵称：跟着老高去旅行\n",
      "简介：读万卷书，行万里路，两者关系如何？ 没有两者。路，就是书！\n",
      "位置：上海 徐汇区\n",
      "微博：#老高电商旅行团#  或许你对原始森林并没有什么概念，长白山并不只有天池，这里有着随处可见的野生动物，这里有着金黄金黄的树叶。这里的秋天来的总是最早，这里一起旅行的人满面笑靥。 ​\n",
      "昵称：张小娴在学习\n",
      "简介：商务合作请微博私信联系@Cynthia-C刘、 @张天杨-Wendy\n",
      "位置：北京 朝阳区\n",
      "微博：看看韩老师黑化后大发现 #小娴，车来了#  #直播汽车人#  #播主星势力#  #我要上热门#（来自http://t.cn/R0wCaxf）APP下载地址：http://t.cn/RXnTAp6  http://t.cn/R2Wx665 ​\n",
      "昵称：韩娱Doublek\n",
      "简介：韩娱搬运工\n",
      "位置：海外 美国\n",
      "微博：#防弹少年团#出演SBS广播节目称，徐太志与忙内#田柾国#父亲仅一岁之差。果然是徐太志跟儿子们呀。 ​\n",
      "昵称：搅基专用号\n",
      "简介：随便写点啥，主要是转发……\n",
      "位置：四川 成都\n",
      "微博：[允悲][允悲][允悲][允悲][允悲][允悲][允悲]//@萝贝贝:哈哈哈哈哈哈哈哈哈\n"
     ]
    }
   ],
   "source": [
    "#可以打印下看看里面都有什么东西  \n",
    "statuses = client.statuses__friends_timeline()['statuses'] #获取当前登录用户以及所关注用户（已授权）的微博</span>         \n",
    "\n",
    "length = len(statuses)  \n",
    "print length  \n",
    "#输出了部分信息  \n",
    "for i in range(0,length):  \n",
    "    print u'昵称：'+statuses[i]['user']['screen_name']  \n",
    "    print u'简介：'+statuses[i]['user']['description']  \n",
    "    print u'位置：'+statuses[i]['user']['location']  \n",
    "    print u'微博：'+statuses[i]['text']  "
   ]
  },
  {
   "cell_type": "code",
   "execution_count": 53,
   "metadata": {
    "collapsed": true
   },
   "outputs": [],
   "source": [
    "client?"
   ]
  },
  {
   "cell_type": "code",
   "execution_count": null,
   "metadata": {
    "collapsed": true
   },
   "outputs": [],
   "source": []
  }
 ],
 "metadata": {
  "kernelspec": {
   "display_name": "Python 2",
   "language": "python",
   "name": "python2"
  },
  "language_info": {
   "codemirror_mode": {
    "name": "ipython",
    "version": 2
   },
   "file_extension": ".py",
   "mimetype": "text/x-python",
   "name": "python",
   "nbconvert_exporter": "python",
   "pygments_lexer": "ipython2",
   "version": "2.7.13"
  }
 },
 "nbformat": 4,
 "nbformat_minor": 2
}
