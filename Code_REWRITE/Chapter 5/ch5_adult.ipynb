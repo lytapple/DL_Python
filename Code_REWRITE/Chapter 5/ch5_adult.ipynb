{
 "cells": [
  {
   "cell_type": "code",
   "execution_count": 6,
   "metadata": {
    "collapsed": true
   },
   "outputs": [],
   "source": [
    "import os\n",
    "import pandas as pd\n",
    "data_folder = os.path.join(os.path.expanduser(\"~\"), \"Data\", \"Adult\")\n",
    "adult_filename = os.path.join(data_folder, \"adult.data\")"
   ]
  },
  {
   "cell_type": "code",
   "execution_count": 7,
   "metadata": {
    "collapsed": true
   },
   "outputs": [],
   "source": [
    "adult = pd.read_csv(adult_filename, header=None, names=[\"Age\", \"Work-Class\", \"fnlwgt\", \"Education\",\n",
    "                                                        \"Education-Num\", \"Marital-Status\", \"Occupation\",\n",
    "                                                        \"Relationship\", \"Race\", \"Sex\", \"Capital-gain\",\n",
    "                                                        \"Capital-loss\", \"Hours-per-week\", \"Native-Country\",\n",
    "                                                        \"Earnings-Raw\"])"
   ]
  },
  {
   "cell_type": "code",
   "execution_count": 8,
   "metadata": {
    "collapsed": true
   },
   "outputs": [],
   "source": [
    "adult.dropna(how='all', inplace=True)"
   ]
  },
  {
   "cell_type": "code",
   "execution_count": 9,
   "metadata": {},
   "outputs": [
    {
     "data": {
      "text/plain": [
       "Index(['Age', 'Work-Class', 'fnlwgt', 'Education', 'Education-Num',\n",
       "       'Marital-Status', 'Occupation', 'Relationship', 'Race', 'Sex',\n",
       "       'Capital-gain', 'Capital-loss', 'Hours-per-week', 'Native-Country',\n",
       "       'Earnings-Raw'],\n",
       "      dtype='object')"
      ]
     },
     "execution_count": 9,
     "metadata": {},
     "output_type": "execute_result"
    }
   ],
   "source": [
    "adult.columns"
   ]
  },
  {
   "cell_type": "code",
   "execution_count": 10,
   "metadata": {},
   "outputs": [
    {
     "data": {
      "text/plain": [
       "count    32561.000000\n",
       "mean        40.437456\n",
       "std         12.347429\n",
       "min          1.000000\n",
       "25%         40.000000\n",
       "50%         40.000000\n",
       "75%         45.000000\n",
       "max         99.000000\n",
       "Name: Hours-per-week, dtype: float64"
      ]
     },
     "execution_count": 10,
     "metadata": {},
     "output_type": "execute_result"
    }
   ],
   "source": [
    "adult[\"Hours-per-week\"].describe()"
   ]
  },
  {
   "cell_type": "code",
   "execution_count": 11,
   "metadata": {},
   "outputs": [
    {
     "data": {
      "text/plain": [
       "10.0"
      ]
     },
     "execution_count": 11,
     "metadata": {},
     "output_type": "execute_result"
    }
   ],
   "source": [
    "adult[\"Education-Num\"].median()"
   ]
  },
  {
   "cell_type": "code",
   "execution_count": 12,
   "metadata": {},
   "outputs": [
    {
     "data": {
      "text/plain": [
       "array([' State-gov', ' Self-emp-not-inc', ' Private', ' Federal-gov',\n",
       "       ' Local-gov', ' ?', ' Self-emp-inc', ' Without-pay', ' Never-worked'], dtype=object)"
      ]
     },
     "execution_count": 12,
     "metadata": {},
     "output_type": "execute_result"
    }
   ],
   "source": [
    "adult[\"Work-Class\"].unique()"
   ]
  },
  {
   "cell_type": "code",
   "execution_count": 13,
   "metadata": {
    "collapsed": true
   },
   "outputs": [],
   "source": [
    "import numpy as np\n",
    "X = np.arange(30).reshape((10, 3))"
   ]
  },
  {
   "cell_type": "code",
   "execution_count": 14,
   "metadata": {},
   "outputs": [
    {
     "data": {
      "text/plain": [
       "array([[ 0,  1,  2],\n",
       "       [ 3,  4,  5],\n",
       "       [ 6,  7,  8],\n",
       "       [ 9, 10, 11],\n",
       "       [12, 13, 14],\n",
       "       [15, 16, 17],\n",
       "       [18, 19, 20],\n",
       "       [21, 22, 23],\n",
       "       [24, 25, 26],\n",
       "       [27, 28, 29]])"
      ]
     },
     "execution_count": 14,
     "metadata": {},
     "output_type": "execute_result"
    }
   ],
   "source": [
    "X"
   ]
  },
  {
   "cell_type": "code",
   "execution_count": 15,
   "metadata": {
    "collapsed": true
   },
   "outputs": [],
   "source": [
    "X[:,1] = 1"
   ]
  },
  {
   "cell_type": "code",
   "execution_count": 16,
   "metadata": {},
   "outputs": [
    {
     "data": {
      "text/plain": [
       "array([[ 0,  1,  2],\n",
       "       [ 3,  1,  5],\n",
       "       [ 6,  1,  8],\n",
       "       [ 9,  1, 11],\n",
       "       [12,  1, 14],\n",
       "       [15,  1, 17],\n",
       "       [18,  1, 20],\n",
       "       [21,  1, 23],\n",
       "       [24,  1, 26],\n",
       "       [27,  1, 29]])"
      ]
     },
     "execution_count": 16,
     "metadata": {},
     "output_type": "execute_result"
    }
   ],
   "source": [
    "X"
   ]
  },
  {
   "cell_type": "code",
   "execution_count": 17,
   "metadata": {
    "collapsed": true
   },
   "outputs": [],
   "source": [
    "from sklearn.feature_selection import VarianceThreshold"
   ]
  },
  {
   "cell_type": "code",
   "execution_count": 18,
   "metadata": {
    "collapsed": true
   },
   "outputs": [],
   "source": [
    "vt = VarianceThreshold()\n",
    "Xt = vt.fit_transform(X)"
   ]
  },
  {
   "cell_type": "code",
   "execution_count": 19,
   "metadata": {},
   "outputs": [
    {
     "data": {
      "text/plain": [
       "array([[ 0,  2],\n",
       "       [ 3,  5],\n",
       "       [ 6,  8],\n",
       "       [ 9, 11],\n",
       "       [12, 14],\n",
       "       [15, 17],\n",
       "       [18, 20],\n",
       "       [21, 23],\n",
       "       [24, 26],\n",
       "       [27, 29]])"
      ]
     },
     "execution_count": 19,
     "metadata": {},
     "output_type": "execute_result"
    }
   ],
   "source": [
    "Xt"
   ]
  },
  {
   "cell_type": "code",
   "execution_count": 20,
   "metadata": {},
   "outputs": [
    {
     "name": "stdout",
     "output_type": "stream",
     "text": [
      "[ 74.25   0.    74.25]\n"
     ]
    }
   ],
   "source": [
    "print(vt.variances_)"
   ]
  },
  {
   "cell_type": "code",
   "execution_count": 21,
   "metadata": {},
   "outputs": [
    {
     "name": "stdout",
     "output_type": "stream",
     "text": [
      "[[   39    13  2174     0    40]\n",
      " [   50    13     0     0    13]\n",
      " [   38     9     0     0    40]\n",
      " ..., \n",
      " [   58     9     0     0    40]\n",
      " [   22     9     0     0    20]\n",
      " [   52     9 15024     0    40]]\n"
     ]
    }
   ],
   "source": [
    "X = adult[[\"Age\", \"Education-Num\", \"Capital-gain\", \"Capital-loss\", \"Hours-per-week\"]].values\n",
    "y = (adult[\"Earnings-Raw\"] == ' >50K').values\n",
    "print(X)"
   ]
  },
  {
   "cell_type": "code",
   "execution_count": 22,
   "metadata": {
    "collapsed": true
   },
   "outputs": [],
   "source": [
    "from sklearn.feature_selection import SelectKBest\n",
    "from sklearn.feature_selection import chi2\n",
    "transformer = SelectKBest(score_func=chi2, k=3)"
   ]
  },
  {
   "cell_type": "code",
   "execution_count": 23,
   "metadata": {},
   "outputs": [
    {
     "name": "stdout",
     "output_type": "stream",
     "text": [
      "[  8.60061182e+03   2.40142178e+03   8.21924671e+07   1.37214589e+06\n",
      "   6.47640900e+03]\n"
     ]
    }
   ],
   "source": [
    "Xt_chi2 = transformer.fit_transform(X, y)\n",
    "print(transformer.scores_)"
   ]
  },
  {
   "cell_type": "code",
   "execution_count": 24,
   "metadata": {
    "collapsed": true
   },
   "outputs": [],
   "source": [
    "from scipy.stats import pearsonr\n",
    "\n",
    "def multivariate_pearsonr(X, y):\n",
    "    scores, pvalues = [], []\n",
    "    for column in range(X.shape[1]):\n",
    "        cur_score, cur_p = pearsonr(X[:,column], y)\n",
    "        scores.append(abs(cur_score))\n",
    "        pvalues.append(cur_p)\n",
    "    return (np.array(scores), np.array(pvalues))"
   ]
  },
  {
   "cell_type": "code",
   "execution_count": 25,
   "metadata": {},
   "outputs": [
    {
     "name": "stdout",
     "output_type": "stream",
     "text": [
      "[ 0.2340371   0.33515395  0.22332882  0.15052631  0.22968907]\n"
     ]
    }
   ],
   "source": [
    "transformer = SelectKBest(score_func=multivariate_pearsonr, k=3)\n",
    "Xt_pearson = transformer.fit_transform(X, y)\n",
    "print(transformer.scores_)"
   ]
  },
  {
   "cell_type": "code",
   "execution_count": 26,
   "metadata": {},
   "outputs": [
    {
     "name": "stderr",
     "output_type": "stream",
     "text": [
      "/Library/Frameworks/Python.framework/Versions/3.6/lib/python3.6/site-packages/sklearn/cross_validation.py:44: DeprecationWarning: This module was deprecated in version 0.18 in favor of the model_selection module into which all the refactored classes and functions are moved. Also note that the interface of the new CV iterators are different from that of this module. This module will be removed in 0.20.\n",
      "  \"This module will be removed in 0.20.\", DeprecationWarning)\n"
     ]
    }
   ],
   "source": [
    "from sklearn.tree import DecisionTreeClassifier\n",
    "from sklearn.cross_validation import cross_val_score\n",
    "clf = DecisionTreeClassifier(random_state=14)\n",
    "scores_chi2 = cross_val_score(clf, Xt_chi2, y, scoring='accuracy')\n",
    "scores_pearson = cross_val_score(clf, Xt_pearson, y, scoring='accuracy')"
   ]
  },
  {
   "cell_type": "code",
   "execution_count": 27,
   "metadata": {},
   "outputs": [
    {
     "name": "stdout",
     "output_type": "stream",
     "text": [
      "Chi2 performance: 0.829\n",
      "Pearson performance: 0.771\n"
     ]
    }
   ],
   "source": [
    "print(\"Chi2 performance: {0:.3f}\".format(scores_chi2.mean()))\n",
    "print(\"Pearson performance: {0:.3f}\".format(scores_pearson.mean()))"
   ]
  },
  {
   "cell_type": "code",
   "execution_count": 36,
   "metadata": {
    "collapsed": true
   },
   "outputs": [],
   "source": [
    "from sklearn.base import TransformerMixin\n",
    "from sklearn.utils import as_float_array\n",
    "\n",
    "class MeanDiscrete(TransformerMixin):\n",
    "    def fit(self, X, y=None):\n",
    "        X = as_float_array(X)\n",
    "        self.mean = np.mean(X, axis=0)\n",
    "        return self\n",
    "\n",
    "    def transform(self, X):\n",
    "        X = as_float_array(X)\n",
    "        assert X.shape[1] == self.mean.shape[0]\n",
    "        return X > self.mean"
   ]
  },
  {
   "cell_type": "code",
   "execution_count": 37,
   "metadata": {
    "collapsed": true
   },
   "outputs": [],
   "source": [
    "mean_discrete = MeanDiscrete()"
   ]
  },
  {
   "cell_type": "code",
   "execution_count": 38,
   "metadata": {},
   "outputs": [],
   "source": [
    "X_mean = mean_discrete.fit_transform(X)"
   ]
  },
  {
   "cell_type": "code",
   "execution_count": 43,
   "metadata": {
    "collapsed": true
   },
   "outputs": [],
   "source": [
    "#%%file adult_tests.py\n",
    "import numpy as np\n",
    "from numpy.testing import assert_array_equal\n",
    "\n",
    "def test_meandiscrete():\n",
    "    X_test = np.array([[ 0,  2],\n",
    "                        [ 3,  5],\n",
    "                        [ 6,  8],\n",
    "                        [ 9, 11],\n",
    "                        [12, 14],\n",
    "                        [15, 17],\n",
    "                        [18, 20],\n",
    "                        [21, 23],\n",
    "                        [24, 26],\n",
    "                        [27, 29]])\n",
    "    #print(X_test)\n",
    "    mean_discrete = MeanDiscrete()\n",
    "    mean_discrete.fit(X_test)\n",
    "    print(mean_discrete.mean)\n",
    "    assert_array_equal(mean_discrete.mean, np.array([13.5, 15.5]))\n",
    "    #print(assert_array_equal)\n",
    "    X_transformed = mean_discrete.transform(X_test)\n",
    "    X_expected = np.array([[ 0,  0],\n",
    "                            [ 0, 0],\n",
    "                            [ 0, 0],\n",
    "                            [ 0, 0],\n",
    "                            [ 0, 0],\n",
    "                            [ 1, 1],\n",
    "                            [ 1, 1],\n",
    "                            [ 1, 1],\n",
    "                            [ 1, 1],\n",
    "                            [ 1, 1]])\n",
    "    assert_array_equal(X_transformed, X_expected)"
   ]
  },
  {
   "cell_type": "code",
   "execution_count": 44,
   "metadata": {
    "scrolled": true
   },
   "outputs": [
    {
     "name": "stdout",
     "output_type": "stream",
     "text": [
      "[ 13.5  15.5]\n"
     ]
    }
   ],
   "source": [
    "test_meandiscrete()"
   ]
  },
  {
   "cell_type": "code",
   "execution_count": 100,
   "metadata": {},
   "outputs": [
    {
     "name": "stdout",
     "output_type": "stream",
     "text": [
      "[[  5.40000000e+01   1.00000000e+01   0.00000000e+00   0.00000000e+00\n",
      "    4.00000000e+01]\n",
      " [  2.50000000e+01   5.00000000e+00   0.00000000e+00   0.00000000e+00\n",
      "    4.00000000e+01]\n",
      " [  2.10000000e+01   1.20000000e+01   0.00000000e+00   0.00000000e+00\n",
      "    2.50000000e+01]\n",
      " ..., \n",
      " [  5.80000000e+01   9.00000000e+00   0.00000000e+00   0.00000000e+00\n",
      "    4.00000000e+01]\n",
      " [  2.20000000e+01   9.00000000e+00   0.00000000e+00   0.00000000e+00\n",
      "    2.00000000e+01]\n",
      " [  5.20000000e+01   9.00000000e+00   1.50240000e+04   0.00000000e+00\n",
      "    4.00000000e+01]] [   38.64988253    10.07716405  1076.19961303    87.22011333    40.38973603]\n",
      "[[   39.    13.  2174.     0.    40.]\n",
      " [   50.    13.     0.     0.    13.]\n",
      " [   38.     9.     0.     0.    40.]\n",
      " ..., \n",
      " [   38.     9.     0.  1977.    99.]\n",
      " [   60.    13.  7298.     0.    40.]\n",
      " [   27.    10.     0.     0.    40.]] [   38.64988253    10.07716405  1076.19961303    87.22011333    40.38973603]\n",
      "[[  3.90000000e+01   1.30000000e+01   2.17400000e+03   0.00000000e+00\n",
      "    4.00000000e+01]\n",
      " [  5.00000000e+01   1.30000000e+01   0.00000000e+00   0.00000000e+00\n",
      "    1.30000000e+01]\n",
      " [  3.80000000e+01   9.00000000e+00   0.00000000e+00   0.00000000e+00\n",
      "    4.00000000e+01]\n",
      " ..., \n",
      " [  5.80000000e+01   9.00000000e+00   0.00000000e+00   0.00000000e+00\n",
      "    4.00000000e+01]\n",
      " [  2.20000000e+01   9.00000000e+00   0.00000000e+00   0.00000000e+00\n",
      "    2.00000000e+01]\n",
      " [  5.20000000e+01   9.00000000e+00   1.50240000e+04   0.00000000e+00\n",
      "    4.00000000e+01]] [   38.45796287    10.07734832  1089.28460865    86.65140277    40.49513982]\n",
      "[[ 54.  10.   0.   0.  40.]\n",
      " [ 25.   5.   0.   0.  40.]\n",
      " [ 21.  12.   0.   0.  25.]\n",
      " ..., \n",
      " [ 44.  10.   0.   0.  56.]\n",
      " [ 30.  10.   0.   0.   5.]\n",
      " [ 36.  10.   0.   0.  50.]] [   38.45796287    10.07734832  1089.28460865    86.65140277    40.49513982]\n",
      "[[   39.    13.  2174.     0.    40.]\n",
      " [   50.    13.     0.     0.    13.]\n",
      " [   38.     9.     0.     0.    40.]\n",
      " ..., \n",
      " [   44.    10.     0.     0.    56.]\n",
      " [   30.    10.     0.     0.     5.]\n",
      " [   36.    10.     0.     0.    50.]] [   38.63709232    10.08752534  1067.4627787     88.03993919    40.42749217]\n",
      "[[  2.40000000e+01   1.20000000e+01   0.00000000e+00   0.00000000e+00\n",
      "    2.00000000e+01]\n",
      " [  3.70000000e+01   9.00000000e+00   0.00000000e+00   0.00000000e+00\n",
      "    4.50000000e+01]\n",
      " [  3.80000000e+01   1.10000000e+01   0.00000000e+00   0.00000000e+00\n",
      "    4.00000000e+01]\n",
      " ..., \n",
      " [  5.80000000e+01   9.00000000e+00   0.00000000e+00   0.00000000e+00\n",
      "    4.00000000e+01]\n",
      " [  2.20000000e+01   9.00000000e+00   0.00000000e+00   0.00000000e+00\n",
      "    2.00000000e+01]\n",
      " [  5.20000000e+01   9.00000000e+00   1.50240000e+04   0.00000000e+00\n",
      "    4.00000000e+01]] [   38.63709232    10.08752534  1067.4627787     88.03993919    40.42749217]\n"
     ]
    }
   ],
   "source": [
    "from sklearn.pipeline import Pipeline\n",
    "\n",
    "pipeline = Pipeline([('mean_discrete', MeanDiscrete()),\n",
    "                     ('classifier', DecisionTreeClassifier(random_state=14))])\n",
    "scores_mean_discrete = cross_val_score(pipeline, X, y, scoring='accuracy')"
   ]
  },
  {
   "cell_type": "code",
   "execution_count": 113,
   "metadata": {},
   "outputs": [
    {
     "name": "stdout",
     "output_type": "stream",
     "text": [
      "Mean Discrete performance: 0.80\n"
     ]
    }
   ],
   "source": [
    "print(\"Mean Discrete performance: {0:.2f}\".format(scores_mean_discrete.mean()))"
   ]
  }
 ],
 "metadata": {
  "kernelspec": {
   "display_name": "Python 3",
   "language": "python",
   "name": "python3"
  },
  "language_info": {
   "codemirror_mode": {
    "name": "ipython",
    "version": 3
   },
   "file_extension": ".py",
   "mimetype": "text/x-python",
   "name": "python",
   "nbconvert_exporter": "python",
   "pygments_lexer": "ipython3",
   "version": "3.6.1"
  }
 },
 "nbformat": 4,
 "nbformat_minor": 1
}
