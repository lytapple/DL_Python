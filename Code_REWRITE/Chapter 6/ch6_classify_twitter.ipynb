{
 "cells": [
  {
   "cell_type": "code",
   "execution_count": 146,
   "metadata": {
    "collapsed": true
   },
   "outputs": [],
   "source": [
    "# Labelling the class values for the twitter dataset.\n",
    "import os\n",
    "input_filename = os.path.join(os.path.expanduser(\"~\"), \"Data\", \"twitter\", \"python_tweets.json\")\n",
    "classes_filename = os.path.join(os.path.expanduser(\"~\"), \"Data\", \"twitter\", \"python_classes.json\")\n",
    "# probabilities_filename = os.path.join(os.path.expanduser(\"~\"), \"Data\", \"twitter\", \"replicable_dataset.json\")\n",
    "# print(probabilities_filename)\n",
    "# with open(probabilities_filename) as inf:\n",
    "#     feature_probabilities = json.load(inf)\n",
    "# feature_probabilities = np.array(feature_probabilities,dtype=int)\n",
    "# feature_probabilities[:,0]"
   ]
  },
  {
   "cell_type": "code",
   "execution_count": 147,
   "metadata": {},
   "outputs": [
    {
     "name": "stdout",
     "output_type": "stream",
     "text": [
      "Loaded 98 tweets\n"
     ]
    }
   ],
   "source": [
    "import json\n",
    "tweets = []\n",
    "with open(input_filename) as inf:\n",
    "    for line in inf:\n",
    "        if len(line.strip()) == 0:\n",
    "            continue\n",
    "        tweets.append(json.loads(line)['text'])\n",
    "print(\"Loaded {} tweets\".format(len(tweets)))"
   ]
  },
  {
   "cell_type": "code",
   "execution_count": 148,
   "metadata": {
    "collapsed": true
   },
   "outputs": [],
   "source": [
    "with open(classes_filename) as inf:\n",
    "    labels = json.load(inf)"
   ]
  },
  {
   "cell_type": "code",
   "execution_count": 149,
   "metadata": {},
   "outputs": [
    {
     "data": {
      "text/plain": [
       "98"
      ]
     },
     "execution_count": 149,
     "metadata": {},
     "output_type": "execute_result"
    }
   ],
   "source": [
    "n_samples = min(len(tweets), len(labels))\n",
    "n_samples"
   ]
  },
  {
   "cell_type": "code",
   "execution_count": 150,
   "metadata": {},
   "outputs": [
    {
     "name": "stdout",
     "output_type": "stream",
     "text": [
      "['研究にはfortranなんだけど、トレンド的にはpythonかなぁ。これから数年でマスターできるのか']\n",
      "[0, 1, 0, 1, 0, 1, 0, 1, 0, 1, 0, 1, 1, 1, 1, 1, 1, 0, 0, 0, 0, 0, 1, 1, 1, 1, 1, 0, 0, 1, 0, 1, 0, 1, 0, 1, 0, 1, 0, 1, 1, 0, 0, 1, 0, 1, 0, 1, 0, 1, 0, 1, 0, 1, 0, 1, 0, 1, 0, 1, 0, 1, 0, 1, 0, 1, 0, 1, 0, 1, 0, 1, 0, 1, 0, 1, 0, 1, 0, 1, 0, 1, 0, 1, 0, 1, 0, 1, 0, 1, 0, 1, 0, 1, 0, 1, 0, 1]\n"
     ]
    }
   ],
   "source": [
    "sample_tweets = [t.lower() for t in tweets[:n_samples]]\n",
    "print(tweets[2:3])\n",
    "labels = labels[:n_samples]\n",
    "print(labels)"
   ]
  },
  {
   "cell_type": "code",
   "execution_count": 151,
   "metadata": {
    "collapsed": true
   },
   "outputs": [],
   "source": [
    "import numpy as np\n",
    "y_true = np.array(labels)"
   ]
  },
  {
   "cell_type": "code",
   "execution_count": 152,
   "metadata": {},
   "outputs": [
    {
     "name": "stdout",
     "output_type": "stream",
     "text": [
      "52.0% have class 1\n"
     ]
    }
   ],
   "source": [
    "print(\"{:.1f}% have class 1\".format(np.mean(y_true == 1) * 100))"
   ]
  },
  {
   "cell_type": "code",
   "execution_count": 153,
   "metadata": {},
   "outputs": [
    {
     "name": "stdout",
     "output_type": "stream",
     "text": [
      "[{'研': True}, {'究': True}, {'に': True}, {'は': True}, {'f': True}, {'o': True}, {'r': True}, {'t': True}, {'r': True}, {'a': True}, {'n': True}, {'な': True}, {'ん': True}, {'だ': True}, {'け': True}, {'ど': True}, {'、': True}, {'ト': True}, {'レ': True}, {'ン': True}, {'ド': True}, {'的': True}, {'に': True}, {'は': True}, {'p': True}, {'y': True}, {'t': True}, {'h': True}, {'o': True}, {'n': True}, {'か': True}, {'な': True}, {'ぁ': True}, {'。': True}, {'こ': True}, {'れ': True}, {'か': True}, {'ら': True}, {'数': True}, {'年': True}, {'で': True}, {'マ': True}, {'ス': True}, {'タ': True}, {'ー': True}, {'で': True}, {'き': True}, {'る': True}, {'の': True}, {'か': True}]\n"
     ]
    }
   ],
   "source": [
    "from sklearn.base import TransformerMixin\n",
    "from nltk import word_tokenize\n",
    "\n",
    "class NLTKBOW(TransformerMixin):\n",
    "    def fit(self, X, y=None):\n",
    "        return self\n",
    "\n",
    "    def transform(self, X):\n",
    "        return [{word: True for word in word_tokenize(document)}\n",
    "                 for document in X]\n",
    "\n",
    "print([{word: True for word in word_tokenize(document)}\n",
    "                 for document in '研究にはfortranなんだけど、トレンド的にはpythonかなぁ。これから数年でマスターできるのか'])"
   ]
  },
  {
   "cell_type": "code",
   "execution_count": 154,
   "metadata": {
    "collapsed": true
   },
   "outputs": [],
   "source": [
    "from sklearn.feature_extraction import DictVectorizer"
   ]
  },
  {
   "cell_type": "code",
   "execution_count": 155,
   "metadata": {
    "collapsed": true
   },
   "outputs": [],
   "source": [
    "from sklearn.naive_bayes import BernoulliNB"
   ]
  },
  {
   "cell_type": "code",
   "execution_count": 156,
   "metadata": {
    "collapsed": true
   },
   "outputs": [],
   "source": [
    "from sklearn.cross_validation import cross_val_score\n",
    "from sklearn.pipeline import Pipeline\n",
    "from sklearn.feature_extraction.text import CountVectorizer\n"
   ]
  },
  {
   "cell_type": "code",
   "execution_count": 157,
   "metadata": {},
   "outputs": [
    {
     "name": "stdout",
     "output_type": "stream",
     "text": [
      "Score: 0.556\n"
     ]
    }
   ],
   "source": [
    "pipeline = Pipeline([('bag-of-words', NLTKBOW()),\n",
    "                     ('vectorizer', DictVectorizer()),\n",
    "                     ('naive-bayes', BernoulliNB())\n",
    "                     ])\n",
    "scores = cross_val_score(pipeline, sample_tweets, y_true, cv=10, scoring='f1')\n",
    "print(\"Score: {:.3f}\".format(np.mean(scores)))"
   ]
  },
  {
   "cell_type": "code",
   "execution_count": 158,
   "metadata": {},
   "outputs": [
    {
     "data": {
      "text/plain": [
       "array([ 0.66666667,  0.61538462,  0.5       ,  0.71428571,  0.33333333,\n",
       "        0.54545455,  0.57142857,  0.44444444,  0.5       ,  0.66666667])"
      ]
     },
     "execution_count": 158,
     "metadata": {},
     "output_type": "execute_result"
    }
   ],
   "source": [
    "scores"
   ]
  },
  {
   "cell_type": "code",
   "execution_count": 159,
   "metadata": {
    "collapsed": true
   },
   "outputs": [],
   "source": [
    "model = pipeline.fit(tweets, labels)"
   ]
  },
  {
   "cell_type": "code",
   "execution_count": 45,
   "metadata": {},
   "outputs": [
    {
     "name": "stdout",
     "output_type": "stream",
     "text": [
      "[[-3.8918203  -1.32687094 -3.19867312 ..., -3.8918203  -3.8918203\n",
      "  -3.8918203 ]\n",
      " [-2.360854   -1.57239664 -3.27714473 ..., -3.27714473 -3.27714473\n",
      "  -3.27714473]]\n"
     ]
    }
   ],
   "source": [
    "nb = model.named_steps['naive-bayes']\n",
    "print(nb.feature_log_prob_)"
   ]
  },
  {
   "cell_type": "code",
   "execution_count": 56,
   "metadata": {},
   "outputs": [
    {
     "name": "stdout",
     "output_type": "stream",
     "text": [
      "[100 459 103 260 267 548  11   1 338   9 102 101 435 240 520   0  12  10\n",
      "   8   7   3 613 198 524 466 660 438 673 606 287 403 346   4 337 204 530\n",
      " 117 540 110 552 257 301 559  92  90 584 588 596 528 525]\n"
     ]
    }
   ],
   "source": [
    "top_features = np.argsort(-nb.feature_log_prob_[1])[:50]\n",
    "print(top_features)"
   ]
  },
  {
   "cell_type": "code",
   "execution_count": 66,
   "metadata": {},
   "outputs": [
    {
     "name": "stdout",
     "output_type": "stream",
     "text": [
      "0 : 0.679245283019\n",
      "1 https 0.603773584906\n",
      "2 @ 0.528301886792\n",
      "3 Python 0.283018867925\n",
      "4 RT 0.245283018868\n",
      "5 python 0.22641509434\n",
      "6 . 0.22641509434\n",
      "7 # 0.207547169811\n",
      "8 a 0.207547169811\n",
      "9 , 0.169811320755\n",
      "10 ? 0.132075471698\n",
      "11 ; 0.11320754717\n",
      "12 for 0.0943396226415\n",
      "13 Monty 0.0943396226415\n",
      "14 of 0.0943396226415\n",
      "15 ! 0.0943396226415\n",
      "16 ... 0.0943396226415\n",
      "17 - 0.0943396226415\n",
      "18 ) 0.0943396226415\n",
      "19 ( 0.0943396226415\n",
      "20 & 0.0943396226415\n",
      "21 to 0.0943396226415\n",
      "22 I 0.0943396226415\n",
      "23 on 0.0754716981132\n",
      "24 in 0.0754716981132\n",
      "25 with 0.0754716981132\n",
      "26 from 0.0754716981132\n",
      "27 … 0.0754716981132\n",
      "28 the 0.0754716981132\n",
      "29 Science 0.0754716981132\n",
      "30 de 0.0754716981132\n",
      "31 amp 0.0754716981132\n",
      "32 '' 0.0754716981132\n",
      "33 `` 0.0754716981132\n",
      "34 Infocentrospais 0.0566037735849\n",
      "35 osdalym9 0.0566037735849\n",
      "36 Anyone 0.0566037735849\n",
      "37 plan 0.0566037735849\n",
      "38 An 0.0566037735849\n",
      "39 pythonによる画像処理入門 0.0566037735849\n",
      "40 Programming 0.0566037735849\n",
      "41 SpecViz 0.0566037735849\n",
      "42 release 0.0566037735849\n",
      "43 2017 0.0566037735849\n",
      "44 1D 0.0566037735849\n",
      "45 software 0.0566037735849\n",
      "46 spectral 0.0566037735849\n",
      "47 stsci 0.0566037735849\n",
      "48 or 0.0566037735849\n",
      "49 one 0.0566037735849\n"
     ]
    }
   ],
   "source": [
    "dv = model.named_steps['vectorizer']\n",
    "for i, feature_index in enumerate(top_features):\n",
    "    print(i,dv.feature_names_[feature_index],np.exp(nb.feature_log_prob_[1][feature_index]))"
   ]
  },
  {
   "cell_type": "code",
   "execution_count": 160,
   "metadata": {},
   "outputs": [
    {
     "data": {
      "text/plain": [
       "['/Users/yt/Models/twitter/python_context.pkl']"
      ]
     },
     "execution_count": 160,
     "metadata": {},
     "output_type": "execute_result"
    }
   ],
   "source": [
    "model_filename = os.path.join(os.path.expanduser(\"~\"), \"Models\", \"twitter\", \"python_context.pkl\")\n",
    "from sklearn.externals import joblib\n",
    "joblib.dump(model,model_filename)\n",
    "#context_classifier = joblib.load(model)"
   ]
  },
  {
   "cell_type": "code",
   "execution_count": 161,
   "metadata": {},
   "outputs": [
    {
     "ename": "TypeError",
     "evalue": "expected str, bytes or os.PathLike object, not Pipeline",
     "output_type": "error",
     "traceback": [
      "\u001b[0;31m---------------------------------------------------------------------------\u001b[0m",
      "\u001b[0;31mTypeError\u001b[0m                                 Traceback (most recent call last)",
      "\u001b[0;32m<ipython-input-161-a022d51252b9>\u001b[0m in \u001b[0;36m<module>\u001b[0;34m()\u001b[0m\n\u001b[0;32m----> 1\u001b[0;31m \u001b[0mcontext_classifier\u001b[0m \u001b[0;34m=\u001b[0m \u001b[0mjoblib\u001b[0m\u001b[0;34m.\u001b[0m\u001b[0mload\u001b[0m\u001b[0;34m(\u001b[0m\u001b[0mmodel\u001b[0m\u001b[0;34m)\u001b[0m\u001b[0;34m\u001b[0m\u001b[0m\n\u001b[0m",
      "\u001b[0;32m/Library/Frameworks/Python.framework/Versions/3.6/lib/python3.6/site-packages/sklearn/externals/joblib/numpy_pickle.py\u001b[0m in \u001b[0;36mload\u001b[0;34m(filename, mmap_mode)\u001b[0m\n\u001b[1;32m    565\u001b[0m             \u001b[0mobj\u001b[0m \u001b[0;34m=\u001b[0m \u001b[0m_unpickle\u001b[0m\u001b[0;34m(\u001b[0m\u001b[0mfobj\u001b[0m\u001b[0;34m)\u001b[0m\u001b[0;34m\u001b[0m\u001b[0m\n\u001b[1;32m    566\u001b[0m     \u001b[0;32melse\u001b[0m\u001b[0;34m:\u001b[0m\u001b[0;34m\u001b[0m\u001b[0m\n\u001b[0;32m--> 567\u001b[0;31m         \u001b[0;32mwith\u001b[0m \u001b[0mopen\u001b[0m\u001b[0;34m(\u001b[0m\u001b[0mfilename\u001b[0m\u001b[0;34m,\u001b[0m \u001b[0;34m'rb'\u001b[0m\u001b[0;34m)\u001b[0m \u001b[0;32mas\u001b[0m \u001b[0mf\u001b[0m\u001b[0;34m:\u001b[0m\u001b[0;34m\u001b[0m\u001b[0m\n\u001b[0m\u001b[1;32m    568\u001b[0m             \u001b[0;32mwith\u001b[0m \u001b[0m_read_fileobject\u001b[0m\u001b[0;34m(\u001b[0m\u001b[0mf\u001b[0m\u001b[0;34m,\u001b[0m \u001b[0mfilename\u001b[0m\u001b[0;34m,\u001b[0m \u001b[0mmmap_mode\u001b[0m\u001b[0;34m)\u001b[0m \u001b[0;32mas\u001b[0m \u001b[0mfobj\u001b[0m\u001b[0;34m:\u001b[0m\u001b[0;34m\u001b[0m\u001b[0m\n\u001b[1;32m    569\u001b[0m                 \u001b[0;32mif\u001b[0m \u001b[0misinstance\u001b[0m\u001b[0;34m(\u001b[0m\u001b[0mfobj\u001b[0m\u001b[0;34m,\u001b[0m \u001b[0m_basestring\u001b[0m\u001b[0;34m)\u001b[0m\u001b[0;34m:\u001b[0m\u001b[0;34m\u001b[0m\u001b[0m\n",
      "\u001b[0;31mTypeError\u001b[0m: expected str, bytes or os.PathLike object, not Pipeline"
     ]
    }
   ],
   "source": [
    "context_classifier = joblib.load(model)"
   ]
  },
  {
   "cell_type": "code",
   "execution_count": null,
   "metadata": {
    "collapsed": true
   },
   "outputs": [],
   "source": []
  }
 ],
 "metadata": {
  "kernelspec": {
   "display_name": "Python 3",
   "language": "python",
   "name": "python3"
  },
  "language_info": {
   "codemirror_mode": {
    "name": "ipython",
    "version": 3
   },
   "file_extension": ".py",
   "mimetype": "text/x-python",
   "name": "python",
   "nbconvert_exporter": "python",
   "pygments_lexer": "ipython3",
   "version": "3.6.1"
  }
 },
 "nbformat": 4,
 "nbformat_minor": 1
}
