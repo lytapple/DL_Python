{
 "cells": [
  {
   "cell_type": "code",
   "execution_count": 3,
   "metadata": {
    "collapsed": true
   },
   "outputs": [],
   "source": [
    "# Labelling the class values for the twitter dataset.\n",
    "import os\n",
    "input_filename = os.path.join(os.path.expanduser(\"~\"), \"Data\", \"twitter\", \"python_tweets.json\")\n",
    "classes_filename = os.path.join(os.path.expanduser(\"~\"), \"Data\", \"twitter\", \"python_classes.json\")"
   ]
  },
  {
   "cell_type": "code",
   "execution_count": 14,
   "metadata": {},
   "outputs": [
    {
     "name": "stdout",
     "output_type": "stream",
     "text": [
      "Loaded 98 tweets\n"
     ]
    }
   ],
   "source": [
    "import json\n",
    "tweets = []\n",
    "with open(input_filename) as inf:\n",
    "    for line in inf:\n",
    "        if len(line.strip()) == 0:\n",
    "            continue\n",
    "        tweets.append(json.loads(line)['text'])\n",
    "print(\"Loaded {} tweets\".format(len(tweets)))"
   ]
  },
  {
   "cell_type": "code",
   "execution_count": 5,
   "metadata": {
    "collapsed": true
   },
   "outputs": [],
   "source": [
    "with open(classes_filename) as inf:\n",
    "    labels = json.load(inf)"
   ]
  },
  {
   "cell_type": "code",
   "execution_count": 7,
   "metadata": {},
   "outputs": [
    {
     "data": {
      "text/plain": [
       "98"
      ]
     },
     "execution_count": 7,
     "metadata": {},
     "output_type": "execute_result"
    }
   ],
   "source": [
    "n_samples = min(len(tweets), len(labels))\n",
    "n_samples"
   ]
  },
  {
   "cell_type": "code",
   "execution_count": 15,
   "metadata": {},
   "outputs": [
    {
     "name": "stdout",
     "output_type": "stream",
     "text": [
      "['rt @otariano: \"cada cigarro que você fuma é um dia a menos de vida\" https://t.co/zrugv7wiba', \"@twitchyteam it's like a monty python skit gone wrong\", '研究にはfortranなんだけど、トレンド的にはpythonかなぁ。これから数年でマスターできるのか', 'i liked a @youtube video https://t.co/tadgicefwk galaxy song - monty python live in o2 arena.', 'rt @erwinhuizenga: nice article on how to use metrics for #deeplearning with #keras in python: https://t.co/zg0iluatje #machinelearning #da…', 'quantaxis 0.4.0b0.dev43: quantaxis:quantitative financial strategy framework https://t.co/xoi6lotd84', 'legos.codinglove 0.1.1: fetch a post from thecodinglove tumblr https://t.co/ahry6widxq', 'pipeline-loggers 0.12: pipelineai loggers https://t.co/44azm4bgga', 'python-slimta 4.0.2: lightweight, asynchronous smtp libraries. https://t.co/50gufzwmgk', 'pines 2.22: a toolkit for various purposes https://t.co/plpxif0jrn', 'bericht 0.0.13: improved tabular report generation with reportlab. https://t.co/3b4ryw9h1e', 'appenginetaskutils 0.3.8.dev1: utilities for using appengine tasks. i... https://t.co/rmcyyouc9y', 'imgutils 0.1.0: miscellaneous image utility functions. https://t.co/ho8tlbxjpt', 'slimta 0.6.3: configurable mta based on the python-slimta library. https://t.co/xduplh9joj', 'orderedobject 0.0.1: an orderedobject unreferences its attributes with a determ... https://t.co/wvtzma0pag', 'rt @jakevdp: today i put up a static html version of the python data science handbook so that search engines can index it! https://t.co/yov…', '@max_swell \"se tornando aquilo que um dia jurou destruir\"\\ntambém tô nessa fase rs.', 'rt @mane_fuu: @python_alpine のはぁ✨ありがとうございます☆\\nイベントなど出て活動していきますので\\nよろしくお願いしますぅえ(๑╹ω╹๑ )❤️♪', '見るがいい。\\u3000私が支配するこのステージを。\\u3000おまえのお得意のｃｑｃは、私には通用しない', '@asylummx @babychaiin @ograhamy @rambofps @grxzzy @eaquaa @blizzard_python let’s play them rn', 'pythonは言語自体というより、ディープラーニングとかの知識のほうで対価を得てる気がするけど', '@blizzard_python bet', 'rt @sarahkendrew: nice software release from @stsci colleagues: a python 1d spectral visualization tool, specviz https://t.co/uknhapkfr8', 'do i want a ball python? 😂', '@masuotv 見た目が良い奴がモテると思っているのか？\\n\\nそこに俺の技の答えがある\\n\\nこの文字を見たらお前は死ぬ\\n\\n「人間のちんこは人工物に勝てない」', '#tom ford $ 2240. gold python snake hh ankle strap sling back shoes 7.5 #newprofilepic https://t.co/qsbsim5vey https://t.co/dzzvj5owjv', '@walkersaxplayer hah, that\\'s one of my first triggers to switch to a \"real\" language (usually python). bash arrays… https://t.co/mpkayzy5ex', '#tom ford $ https://t.co/soaygld6er python snake hh ankle strap sling back shoes 6.5  https://t.co/ofrdfokip3 https://t.co/wjvqhy8kjy', '@python_alpine のはぁ✨ありがとうございます☆\\nイベントなど出て活動していきますので\\nよろしくお願いしますぅえ(๑╹ω╹๑ )❤️♪', 'いまpythonの勉強に使っている『退屈なことはpythonにやらせよう』という本は、コードに茶目っ気があって楽しい。ちょっとした遊びの要素は大切だよなあ。', '@sadisticreaping ah.\\nwe have that problem with our royal ball python. ours is also female. we were told that when t… https://t.co/y8x4b0lqir', 'vía: infocentrospais: rt osdalym9: #noselodigasanadie taller de impress en plan vacacional python 2017 infocentros… https://t.co/st3mt5d5wa', 'wanna start studying data? check out @datacamp currently working on data scientist with python track https://t.co/gvj3lgxe5f', 'python setup.py uninstall #python #setuppy #pypi https://t.co/vda6davqio', \"i liked a @youtube video https://t.co/dtalekdtfh monty python's best sketch ever\", 'hacking university: learn python computer programming from scratch &amp; precis  https://t.co/rqngxgrsou #machine #learning #python @pythonbot_', 'python for beginners: basic guide to master python  https://t.co/qbc4a7p77g #machine #learning #python @pythonbot_', '@drliusmartdata should we choose training in stats &amp; math or work experience in #python, #ar and machine learning?… https://t.co/dxvspuyxye', 'just spent 4 hours #learning #websockets and #tornadoweb , slowly getting there.  #python', 'pythonによる画像処理入門 - さもしのブログ https://t.co/cbwts9qkfq https://t.co/goeolt1vdo', 'rt @insightbook: john zelle  교수가 집필한 &lt;python programming: an introduction to computer science&gt;를 번역한 책. https://t.co/ctyul3tttm', 'こんなことできるんだ。いつか使うかもしれないのでメモ。 / 他5コメント https://t.co/r181rtcavl “pythonによる画像処理入門 - さもしのブログ” https://t.co/hv2tnxxmgm', 'rt @mongodb: get started with #python and #mongodb. #developers #softwaredevelopment #appdevelopment https://t.co/vlrmbqhfi5 https://t.co/k…', 'rt @analyticbridge: learning python for data science https://t.co/fk8aqahdsh', '@cwreacejr @thepracticaldev i find it a challenge to know when to shift from \"throwaway bash script\" to \"real code… https://t.co/e80cuzaqfb', 'c/c++とpythonを連携させるためのツールやライブラリはいろいろありますが、私はboost.pythonやpybind11のやり方が好きです。c++の能力を最大限に活用できるし、バインディングの仕方についても個々のクラスや関数について自分で自由に決められるから。', 'staff software engineer @a10networks nangang district, taipei city, taiwan #gui #java #ldap https://t.co/mbcbrkhoz8', 'rt @dbader_org: 💌🐍 collections.counter in the #python standard library is great! (get the whole series at https://t.co/fr9cy8xsrt) https://…', \"@avilaboyreal que eu lembro: lilo e stitch, a pequena sereia, howl's moving castle, a viagem de chihiro, monty pyth… https://t.co/w8jznujhi2\", \"we're #hiring! read about our latest #job opening here: marketing analyst - analytics experience with sas,... - https://t.co/oemlscmxc6\", 'career @ capital fund management (cfm) - paris.+ researcher - quantitative fina... https://t.co/wuvecmalty emploi finance 57', 'remove items from a list while iterating #python #iteration https://t.co/9m9038exp1', 'rt @activestate: [guide] choosing the right programming language for enterprise, compares #java #python #golang #ruby #php #nodejs https://…', 'rt @satoshithermoph: エクセルで書いたグラフをイラレでなぞるとかいう頭おかしい行為をしなくて済むように、python のmatplotlib の使い方をブログに書くか・・・。', '@masuotv 自撮り程気持ち悪い物は無い\\n\\n持ち前の容姿等数十年で無くなると言うのに何故誇示しようとするのか理解に苦しむ', 'rt @osdalym9: #noselodigasanadie taller de impress en plan vacacional python 2017 @infocentrospais @inportuguesa @dppsuv @jorgelyedra  @aji…', 'rt @erwinhuizenga: nice article on how to use metrics for #deeplearning with #keras in python: https://t.co/zg0iluatje #machinelearning #da…', '@anniecovfefe @nickgibson74 @thisenragesme @susiemv @senjohnmccain @gop you fucking idiots, we have video proof fro… https://t.co/gaqilmzftg', '欢迎关注cloud native python。 https://t.co/wvazxkeanr', 'rt @s1nakaoka: boost.pythonに代わるc/c++のpythonバインディングライブラリとしてpybind11を試しているが、とてもよい。何よりドキュメントがよく書けていて分かりやすく、c++のラムダ式とも連携できるので、とても書きやすい。 https:/…', 'rt @satoshithermoph: エクセルで書いたグラフをイラレでなぞるとかいう頭おかしい行為をしなくて済むように、python のmatplotlib の使い方をブログに書くか・・・。', \"@neilhimself saw it a couple of weeks ago on b'way. laughed till it hurt. shades of monty python meets keystone cops!\", 'tonight i got called \"a stupid python\" by a crazy homeless woman. in case anyone was wondering how atlanta was going for me.', 'rt @vergaralautaro: todos los del fa deberían ver life of brian, de monty python\\n\\n@fvillanelo @cristpineda \\n\\n(para entretenerse, claro ;) )…', '@masuotv この文字を見たらお前は死ぬ\\n\\n「人間のちんこは人工物に勝てない」', '@masuotv 気持ち悪すぎるだろ人間', 'rt @catswhocode 5 python scripts to optimize your website seo https://t.co/wrjrsi6dfz', '5 python scripts to optimize your website seo https://t.co/c1isqy9xpd', 'rt @satoshithermoph: エクセルで書いたグラフをイラレでなぞるとかいう頭おかしい行為をしなくて済むように、python のmatplotlib の使い方をブログに書くか・・・。', 'nice software release from @stsci colleagues: a python 1d spectral visualization tool, specviz https://t.co/uknhapkfr8', '@tenseer @shawnabner @blizzard_python hmu', '既にシェルとかpythonとか書ける人はvbaやるよりgas（google apps script）やったほうが学習コストが断然低いのでexcelを捨てましょう', '@blizzard_python ok', '@eaquaa why not. inv me to dubs team', 'pythonによる画像処理入門 - さもしのブログ https://t.co/3mvug8husn', 'pythonによる画像処理入門 - さもしのブログ https://t.co/gfirxrcajn', 'rt @kitploit: pyrebox - python scriptable reverse engineering sandbox https://t.co/ooimlhnvl0 #analysis #debugging #forensics #image #proce…', '@blizzard_python just me', 'rt @scipytip: lmfit: non-linear least-square minimization and curve-fitting for python https://t.co/vjlkgddoxu', '@eaquaa anyone on?', '@shawnabner @rtwwii @gamerrtweetss', '@blizzard_python gbs?', 'rt @blackgayvideo: python dickin down rocky in \"nasty ass big dick fuck\\'n\" nasty ass big dick fuck\\'n @videoboyblog #dawgpoundusa https://t.…', 'anyone down umg dubs? iw ps4 na. bored af', 'rt @kirkdborne: #python projects - learn by doing - #1 - https://t.co/jzlh5h7hu4 #bigdata #datascience #machinelearning by @codango https:/…', '@uuhair @jimcarrey \"and now for something completely different\" (monty python voice)', 'rt @vergaralautaro: todos los del fa deberían ver life of brian, de monty python\\n\\n@fvillanelo @cristpineda \\n\\n(para entretenerse, claro ;) )…', 'boost.pythonに代わるc/c++のpythonバインディングライブラリとしてpybind11を試しているが、とてもよい。何よりドキュメントがよく書けていて分かりやすく、c++のラムダ式とも連携できるので、とても書きやすい。 https://t.co/pz3fdj7tnf', 'rt @mikeneko_taisho: そもそも、pythonかr使えば無料で頭使わなくても正しく見やすいグラフ書いてくれるよ。pythonユーザからするとエラーバー書き写しとか｢ご苦労さま｣って感じ。画像加工にしろグラフ改ざんにしろ不正ってやるのに物凄くエネルギーいる気がす…', 'rt @brgsjks: tahukah anda ada bracelet berperisa python &amp; stingray dijual oleh @forcusmalaysia. from rm59 each ok. bukan biasa biasa ada pe…', 'the things i do as pass time activity: resurrecting a dead code base :)\\nhttps://t.co/uygju5ab8a', 'rt @activestate: [blog] python or ruby? which one is best for web development? https://t.co/xua4x8ycpr  #python #ruby #rails #webdev https:…', 'python による画像処理入門 - さもしのブログ https://t.co/cja5iqrixh', '財務諸表と、勝ち点や、動員数の分析はpythonですぐできそうだ。\\n\\n来年からは自動化できるかも。\\n運営に売るかw', 'rt @_data_science_: #machinelearning: how do you solve a linear regression machine learning problem... #python https://t.co/3b0j4yxveq http…', 'f311 0.17.8.15.0: astronomy-related api, command-line tools, and windowed applicat... https://t.co/puwwtjmwu0', 'shh 0.9.0: making tor hidden services easy https://t.co/gbu9ds3lzd', 'epifx 0.5.2: epidemic forecasting with mechanistic infection models https://t.co/6m51ymtlgt']\n",
      "[0, 1, 0, 1, 0, 1, 0, 1, 0, 1, 0, 1, 1, 1, 1, 1, 1, 0, 0, 0, 0, 0, 1, 1, 1, 1, 1, 0, 0, 1, 0, 1, 0, 1, 0, 1, 0, 1, 0, 1, 1, 0, 0, 1, 0, 1, 0, 1, 0, 1, 0, 1, 0, 1, 0, 1, 0, 1, 0, 1, 0, 1, 0, 1, 0, 1, 0, 1, 0, 1, 0, 1, 0, 1, 0, 1, 0, 1, 0, 1, 0, 1, 0, 1, 0, 1, 0, 1, 0, 1, 0, 1, 0, 1, 0, 1, 0, 1]\n"
     ]
    }
   ],
   "source": [
    "sample_tweets = [t.lower() for t in tweets[:n_samples]]\n",
    "print(sample_tweets)\n",
    "labels = labels[:n_samples]\n",
    "print(labels)"
   ]
  },
  {
   "cell_type": "code",
   "execution_count": 130,
   "metadata": {
    "collapsed": true
   },
   "outputs": [],
   "source": [
    "import numpy as np\n",
    "y_true = np.array(labels)"
   ]
  },
  {
   "cell_type": "code",
   "execution_count": 131,
   "metadata": {},
   "outputs": [
    {
     "name": "stdout",
     "output_type": "stream",
     "text": [
      "52.0% have class 1\n"
     ]
    }
   ],
   "source": [
    "print(\"{:.1f}% have class 1\".format(np.mean(y_true == 1) * 100))"
   ]
  },
  {
   "cell_type": "code",
   "execution_count": 132,
   "metadata": {
    "collapsed": true
   },
   "outputs": [],
   "source": [
    "from sklearn.base import TransformerMixin\n",
    "from nltk import word_tokenize\n",
    "\n",
    "class NLTKBOW(TransformerMixin):\n",
    "    def fit(self, X, y=None):\n",
    "        return self\n",
    "\n",
    "    def transform(self, X):\n",
    "        return [{word: True for word in word_tokenize(document)}\n",
    "                 for document in X]"
   ]
  },
  {
   "cell_type": "code",
   "execution_count": 134,
   "metadata": {
    "collapsed": true
   },
   "outputs": [],
   "source": [
    "from sklearn.feature_extraction import DictVectorizer"
   ]
  },
  {
   "cell_type": "code",
   "execution_count": 138,
   "metadata": {
    "collapsed": true
   },
   "outputs": [],
   "source": [
    "from sklearn.naive_bayes import BernoulliNB"
   ]
  },
  {
   "cell_type": "code",
   "execution_count": 140,
   "metadata": {
    "collapsed": true
   },
   "outputs": [],
   "source": [
    "from sklearn.cross_validation import cross_val_score\n",
    "from sklearn.pipeline import Pipeline\n",
    "from sklearn.feature_extraction.text import CountVectorizer"
   ]
  },
  {
   "cell_type": "code",
   "execution_count": 147,
   "metadata": {},
   "outputs": [
    {
     "name": "stdout",
     "output_type": "stream",
     "text": [
      "Score: 0.799\n"
     ]
    }
   ],
   "source": [
    "pipeline = Pipeline([('bag-of-words', NLTKBOW()),\n",
    "                     ('vectorizer', DictVectorizer()),\n",
    "                     ('naive-bayes', BernoulliNB())\n",
    "                     ])\n",
    "scores = cross_val_score(pipeline, sample_tweets, y_true, cv=10, scoring='f1')\n",
    "print(\"Score: {:.3f}\".format(np.mean(scores)))"
   ]
  },
  {
   "cell_type": "code",
   "execution_count": 148,
   "metadata": {},
   "outputs": [
    {
     "data": {
      "text/plain": [
       "array([ 0.77777778,  0.86956522,  0.77777778,  0.8       ,  0.82352941,\n",
       "        0.82352941,  0.82352941,  0.58823529,  0.75      ,  0.95238095])"
      ]
     },
     "execution_count": 148,
     "metadata": {},
     "output_type": "execute_result"
    }
   ],
   "source": [
    "scores"
   ]
  },
  {
   "cell_type": "code",
   "execution_count": 142,
   "metadata": {
    "collapsed": true
   },
   "outputs": [],
   "source": []
  }
 ],
 "metadata": {
  "kernelspec": {
   "display_name": "Python 3",
   "language": "python",
   "name": "python3"
  },
  "language_info": {
   "codemirror_mode": {
    "name": "ipython",
    "version": 3
   },
   "file_extension": ".py",
   "mimetype": "text/x-python",
   "name": "python",
   "nbconvert_exporter": "python",
   "pygments_lexer": "ipython3",
   "version": "3.6.1"
  }
 },
 "nbformat": 4,
 "nbformat_minor": 1
}
