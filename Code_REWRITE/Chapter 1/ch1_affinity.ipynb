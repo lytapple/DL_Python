{
 "cells": [
  {
   "cell_type": "code",
   "execution_count": 24,
   "metadata": {},
   "outputs": [
    {
     "name": "stdout",
     "output_type": "stream",
     "text": [
      "This dataset has 100 samples and 5 features\n"
     ]
    }
   ],
   "source": [
    "import numpy as np\n",
    "dataset_filename = \"affinity_dataset.txt\"\n",
    "X = np.loadtxt(dataset_filename)\n",
    "n_samples, n_features = X.shape\n",
    "print(\"This dataset has {0} samples and {1} features\".format(n_samples, n_features))"
   ]
  },
  {
   "cell_type": "code",
   "execution_count": 25,
   "metadata": {},
   "outputs": [
    {
     "name": "stdout",
     "output_type": "stream",
     "text": [
      "[[ 0.  1.  0.  0.  0.]\n",
      " [ 0.  0.  1.  1.  1.]\n",
      " [ 1.  0.  0.  0.  1.]\n",
      " [ 1.  0.  0.  1.  1.]\n",
      " [ 0.  0.  1.  0.  0.]]\n"
     ]
    }
   ],
   "source": [
    "print(X[:5])"
   ]
  },
  {
   "cell_type": "code",
   "execution_count": 26,
   "metadata": {
    "collapsed": true
   },
   "outputs": [],
   "source": [
    "# The names of the features, for your reference.\n",
    "features = [\"bread\", \"milk\", \"cheese\", \"apples\", \"bananas\"]"
   ]
  },
  {
   "cell_type": "markdown",
   "metadata": {},
   "source": [
    "In our first example, we will compute the Support and Confidence of the rule \"If a person buys Apples, they also buy Bananas\"."
   ]
  },
  {
   "cell_type": "code",
   "execution_count": 27,
   "metadata": {},
   "outputs": [
    {
     "name": "stdout",
     "output_type": "stream",
     "text": [
      "38 people bought Apples\n"
     ]
    }
   ],
   "source": [
    "# First, how many rows contain our premise: that a person is buying apples\n",
    "num_apple_purchases = 0\n",
    "for sample in X:\n",
    "    if sample[3] == 1:  # This person bought Apples\n",
    "        num_apple_purchases += 1\n",
    "print(\"{0} people bought Apples\".format(num_apple_purchases))"
   ]
  },
  {
   "cell_type": "code",
   "execution_count": 28,
   "metadata": {},
   "outputs": [
    {
     "name": "stdout",
     "output_type": "stream",
     "text": [
      "23 cases of the rule being valid were discovered\n",
      "15 cases of the rule being invalid were discovered\n"
     ]
    }
   ],
   "source": [
    "# How many of the cases that a person bought Apples involved the people purchasing Bananas too?\n",
    "# Record both cases where the rule is valid and is invalid.\n",
    "rule_valid = 0\n",
    "rule_invalid = 0\n",
    "for sample in X:\n",
    "    if sample[3] == 1:  # This person bought Apples\n",
    "        if sample[4] == 1:\n",
    "            # This person bought both Apples and Bananas\n",
    "            rule_valid += 1\n",
    "        else:\n",
    "            # This person bought Apples, but not Bananas\n",
    "            rule_invalid += 1\n",
    "print(\"{0} cases of the rule being valid were discovered\".format(rule_valid))\n",
    "print(\"{0} cases of the rule being invalid were discovered\".format(rule_invalid))"
   ]
  },
  {
   "cell_type": "code",
   "execution_count": 29,
   "metadata": {},
   "outputs": [
    {
     "name": "stdout",
     "output_type": "stream",
     "text": [
      "38\n",
      "The support is 23 and the confidence is 0.605.\n",
      "As a percentage, that is 60.5%.\n"
     ]
    }
   ],
   "source": [
    "# Now we have all the information needed to compute Support and Confidence\n",
    "support = rule_valid  # The Support is the number of times the rule is discovered.\n",
    "confidence = rule_valid / num_apple_purchases\n",
    "print(\"{0}\".format(num_apple_purchases))\n",
    "print(\"The support is {0} and the confidence is {1:.3f}.\".format(support, confidence))\n",
    "# Confidence can be thought of as a percentage using the following:\n",
    "print(\"As a percentage, that is {0:.1f}%.\".format(100 * confidence))"
   ]
  },
  {
   "cell_type": "code",
   "execution_count": 30,
   "metadata": {
    "scrolled": false
   },
   "outputs": [
    {
     "name": "stdout",
     "output_type": "stream",
     "text": [
      "defaultdict(<class 'int'>, {})\n",
      "defaultdict(<class 'int'>, {1: 1})\n",
      "defaultdict(<class 'int'>, {1: 1, 2: 1})\n",
      "defaultdict(<class 'int'>, {1: 1, 2: 1, 3: 1})\n",
      "defaultdict(<class 'int'>, {1: 1, 2: 1, 3: 1, 4: 1})\n",
      "defaultdict(<class 'int'>, {1: 1, 2: 1, 3: 1, 4: 1, 0: 1})\n",
      "defaultdict(<class 'int'>, {1: 1, 2: 1, 3: 1, 4: 2, 0: 1})\n",
      "defaultdict(<class 'int'>, {1: 1, 2: 1, 3: 1, 4: 2, 0: 2})\n",
      "defaultdict(<class 'int'>, {1: 1, 2: 1, 3: 2, 4: 2, 0: 2})\n",
      "defaultdict(<class 'int'>, {1: 1, 2: 1, 3: 2, 4: 3, 0: 2})\n",
      "defaultdict(<class 'int'>, {1: 1, 2: 2, 3: 2, 4: 3, 0: 2})\n",
      "defaultdict(<class 'int'>, {1: 1, 2: 3, 3: 2, 4: 3, 0: 2})\n",
      "defaultdict(<class 'int'>, {1: 1, 2: 3, 3: 3, 4: 3, 0: 2})\n",
      "defaultdict(<class 'int'>, {1: 1, 2: 3, 3: 3, 4: 4, 0: 2})\n",
      "defaultdict(<class 'int'>, {1: 1, 2: 4, 3: 3, 4: 4, 0: 2})\n",
      "defaultdict(<class 'int'>, {1: 1, 2: 4, 3: 3, 4: 4, 0: 3})\n",
      "defaultdict(<class 'int'>, {1: 2, 2: 4, 3: 3, 4: 4, 0: 3})\n",
      "defaultdict(<class 'int'>, {1: 2, 2: 5, 3: 3, 4: 4, 0: 3})\n",
      "defaultdict(<class 'int'>, {1: 3, 2: 5, 3: 3, 4: 4, 0: 3})\n",
      "defaultdict(<class 'int'>, {1: 3, 2: 5, 3: 4, 4: 4, 0: 3})\n",
      "defaultdict(<class 'int'>, {1: 3, 2: 5, 3: 4, 4: 5, 0: 3})\n",
      "defaultdict(<class 'int'>, {1: 3, 2: 6, 3: 4, 4: 5, 0: 3})\n",
      "defaultdict(<class 'int'>, {1: 3, 2: 6, 3: 4, 4: 6, 0: 3})\n",
      "defaultdict(<class 'int'>, {1: 3, 2: 7, 3: 4, 4: 6, 0: 3})\n",
      "defaultdict(<class 'int'>, {1: 3, 2: 7, 3: 4, 4: 7, 0: 3})\n",
      "defaultdict(<class 'int'>, {1: 3, 2: 7, 3: 4, 4: 7, 0: 4})\n",
      "defaultdict(<class 'int'>, {1: 4, 2: 7, 3: 4, 4: 7, 0: 4})\n",
      "defaultdict(<class 'int'>, {1: 4, 2: 7, 3: 4, 4: 8, 0: 4})\n",
      "defaultdict(<class 'int'>, {1: 4, 2: 7, 3: 4, 4: 8, 0: 5})\n",
      "defaultdict(<class 'int'>, {1: 5, 2: 7, 3: 4, 4: 8, 0: 5})\n",
      "defaultdict(<class 'int'>, {1: 5, 2: 8, 3: 4, 4: 8, 0: 5})\n",
      "defaultdict(<class 'int'>, {1: 5, 2: 9, 3: 4, 4: 8, 0: 5})\n",
      "defaultdict(<class 'int'>, {1: 5, 2: 9, 3: 4, 4: 9, 0: 5})\n",
      "defaultdict(<class 'int'>, {1: 5, 2: 9, 3: 4, 4: 9, 0: 6})\n",
      "defaultdict(<class 'int'>, {1: 5, 2: 9, 3: 4, 4: 10, 0: 6})\n",
      "defaultdict(<class 'int'>, {1: 5, 2: 9, 3: 4, 4: 10, 0: 7})\n",
      "defaultdict(<class 'int'>, {1: 5, 2: 10, 3: 4, 4: 10, 0: 7})\n",
      "defaultdict(<class 'int'>, {1: 5, 2: 10, 3: 5, 4: 10, 0: 7})\n",
      "defaultdict(<class 'int'>, {1: 5, 2: 10, 3: 5, 4: 11, 0: 7})\n",
      "defaultdict(<class 'int'>, {1: 6, 2: 10, 3: 5, 4: 11, 0: 7})\n",
      "defaultdict(<class 'int'>, {1: 6, 2: 10, 3: 6, 4: 11, 0: 7})\n",
      "defaultdict(<class 'int'>, {1: 6, 2: 10, 3: 6, 4: 11, 0: 8})\n",
      "defaultdict(<class 'int'>, {1: 6, 2: 10, 3: 6, 4: 12, 0: 8})\n",
      "defaultdict(<class 'int'>, {1: 6, 2: 10, 3: 6, 4: 12, 0: 9})\n",
      "defaultdict(<class 'int'>, {1: 6, 2: 10, 3: 7, 4: 12, 0: 9})\n",
      "defaultdict(<class 'int'>, {1: 6, 2: 10, 3: 7, 4: 13, 0: 9})\n",
      "defaultdict(<class 'int'>, {1: 6, 2: 10, 3: 7, 4: 13, 0: 10})\n",
      "defaultdict(<class 'int'>, {1: 6, 2: 11, 3: 7, 4: 13, 0: 10})\n",
      "defaultdict(<class 'int'>, {1: 6, 2: 11, 3: 8, 4: 13, 0: 10})\n",
      "defaultdict(<class 'int'>, {1: 6, 2: 11, 3: 8, 4: 14, 0: 10})\n",
      "defaultdict(<class 'int'>, {1: 7, 2: 11, 3: 8, 4: 14, 0: 10})\n",
      "defaultdict(<class 'int'>, {1: 7, 2: 11, 3: 9, 4: 14, 0: 10})\n",
      "defaultdict(<class 'int'>, {1: 7, 2: 11, 3: 9, 4: 15, 0: 10})\n",
      "defaultdict(<class 'int'>, {1: 7, 2: 12, 3: 9, 4: 15, 0: 10})\n",
      "defaultdict(<class 'int'>, {1: 7, 2: 12, 3: 10, 4: 15, 0: 10})\n",
      "defaultdict(<class 'int'>, {1: 8, 2: 12, 3: 10, 4: 15, 0: 10})\n",
      "defaultdict(<class 'int'>, {1: 8, 2: 12, 3: 11, 4: 15, 0: 10})\n",
      "defaultdict(<class 'int'>, {1: 8, 2: 13, 3: 11, 4: 15, 0: 10})\n",
      "defaultdict(<class 'int'>, {1: 8, 2: 13, 3: 12, 4: 15, 0: 10})\n",
      "defaultdict(<class 'int'>, {1: 9, 2: 13, 3: 12, 4: 15, 0: 10})\n",
      "defaultdict(<class 'int'>, {1: 9, 2: 14, 3: 12, 4: 15, 0: 10})\n",
      "defaultdict(<class 'int'>, {1: 9, 2: 14, 3: 12, 4: 16, 0: 10})\n",
      "defaultdict(<class 'int'>, {1: 10, 2: 14, 3: 12, 4: 16, 0: 10})\n",
      "defaultdict(<class 'int'>, {1: 10, 2: 15, 3: 12, 4: 16, 0: 10})\n",
      "defaultdict(<class 'int'>, {1: 10, 2: 15, 3: 12, 4: 17, 0: 10})\n",
      "defaultdict(<class 'int'>, {1: 10, 2: 16, 3: 12, 4: 17, 0: 10})\n",
      "defaultdict(<class 'int'>, {1: 10, 2: 16, 3: 13, 4: 17, 0: 10})\n",
      "defaultdict(<class 'int'>, {1: 10, 2: 16, 3: 13, 4: 18, 0: 10})\n",
      "defaultdict(<class 'int'>, {1: 10, 2: 16, 3: 13, 4: 18, 0: 11})\n",
      "defaultdict(<class 'int'>, {1: 11, 2: 16, 3: 13, 4: 18, 0: 11})\n",
      "defaultdict(<class 'int'>, {1: 11, 2: 16, 3: 14, 4: 18, 0: 11})\n",
      "defaultdict(<class 'int'>, {1: 11, 2: 16, 3: 14, 4: 18, 0: 12})\n",
      "defaultdict(<class 'int'>, {1: 12, 2: 16, 3: 14, 4: 18, 0: 12})\n",
      "defaultdict(<class 'int'>, {1: 12, 2: 16, 3: 14, 4: 19, 0: 12})\n",
      "defaultdict(<class 'int'>, {1: 12, 2: 16, 3: 14, 4: 19, 0: 13})\n",
      "defaultdict(<class 'int'>, {1: 12, 2: 16, 3: 15, 4: 19, 0: 13})\n",
      "defaultdict(<class 'int'>, {1: 12, 2: 16, 3: 15, 4: 20, 0: 13})\n",
      "defaultdict(<class 'int'>, {1: 13, 2: 16, 3: 15, 4: 20, 0: 13})\n",
      "defaultdict(<class 'int'>, {1: 13, 2: 16, 3: 15, 4: 21, 0: 13})\n",
      "defaultdict(<class 'int'>, {1: 13, 2: 16, 3: 15, 4: 21, 0: 14})\n",
      "defaultdict(<class 'int'>, {1: 14, 2: 16, 3: 15, 4: 21, 0: 14})\n",
      "defaultdict(<class 'int'>, {1: 14, 2: 16, 3: 15, 4: 22, 0: 14})\n",
      "defaultdict(<class 'int'>, {1: 15, 2: 16, 3: 15, 4: 22, 0: 14})\n",
      "defaultdict(<class 'int'>, {1: 15, 2: 16, 3: 16, 4: 22, 0: 14})\n",
      "defaultdict(<class 'int'>, {1: 15, 2: 16, 3: 16, 4: 23, 0: 14})\n",
      "defaultdict(<class 'int'>, {1: 15, 2: 16, 3: 16, 4: 23, 0: 15})\n",
      "defaultdict(<class 'int'>, {1: 15, 2: 16, 3: 17, 4: 23, 0: 15})\n",
      "defaultdict(<class 'int'>, {1: 15, 2: 17, 3: 17, 4: 23, 0: 15})\n",
      "defaultdict(<class 'int'>, {1: 15, 2: 17, 3: 18, 4: 23, 0: 15})\n",
      "defaultdict(<class 'int'>, {1: 15, 2: 17, 3: 18, 4: 23, 0: 16})\n",
      "defaultdict(<class 'int'>, {1: 16, 2: 17, 3: 18, 4: 23, 0: 16})\n",
      "defaultdict(<class 'int'>, {1: 16, 2: 17, 3: 18, 4: 23, 0: 17})\n",
      "defaultdict(<class 'int'>, {1: 16, 2: 17, 3: 18, 4: 24, 0: 17})\n",
      "defaultdict(<class 'int'>, {1: 17, 2: 17, 3: 18, 4: 24, 0: 17})\n",
      "defaultdict(<class 'int'>, {1: 17, 2: 18, 3: 18, 4: 24, 0: 17})\n",
      "defaultdict(<class 'int'>, {1: 17, 2: 18, 3: 19, 4: 24, 0: 17})\n",
      "defaultdict(<class 'int'>, {1: 17, 2: 18, 3: 19, 4: 24, 0: 18})\n",
      "defaultdict(<class 'int'>, {1: 17, 2: 18, 3: 19, 4: 25, 0: 18})\n",
      "defaultdict(<class 'int'>, {1: 17, 2: 18, 3: 19, 4: 26, 0: 18})\n",
      "defaultdict(<class 'int'>, {1: 18, 2: 18, 3: 19, 4: 26, 0: 18})\n",
      "defaultdict(<class 'int'>, {1: 18, 2: 18, 3: 19, 4: 26, 0: 19})\n",
      "defaultdict(<class 'int'>, {1: 19, 2: 18, 3: 19, 4: 26, 0: 19})\n",
      "defaultdict(<class 'int'>, {1: 19, 2: 19, 3: 19, 4: 26, 0: 19})\n",
      "defaultdict(<class 'int'>, {1: 19, 2: 19, 3: 19, 4: 27, 0: 19})\n",
      "defaultdict(<class 'int'>, {1: 19, 2: 19, 3: 19, 4: 27, 0: 20})\n",
      "defaultdict(<class 'int'>, {1: 19, 2: 20, 3: 19, 4: 27, 0: 20})\n",
      "defaultdict(<class 'int'>, {1: 19, 2: 20, 3: 20, 4: 27, 0: 20})\n",
      "defaultdict(<class 'int'>, {1: 19, 2: 21, 3: 20, 4: 27, 0: 20})\n",
      "defaultdict(<class 'int'>, {1: 19, 2: 21, 3: 21, 4: 27, 0: 20})\n",
      "defaultdict(<class 'int'>, {1: 20, 2: 21, 3: 21, 4: 27, 0: 20})\n",
      "defaultdict(<class 'int'>, {1: 20, 2: 22, 3: 21, 4: 27, 0: 20})\n",
      "defaultdict(<class 'int'>, {1: 21, 2: 22, 3: 21, 4: 27, 0: 20})\n",
      "defaultdict(<class 'int'>, {1: 21, 2: 23, 3: 21, 4: 27, 0: 20})\n",
      "defaultdict(<class 'int'>, {1: 21, 2: 23, 3: 22, 4: 27, 0: 20})\n",
      "defaultdict(<class 'int'>, {1: 21, 2: 23, 3: 22, 4: 28, 0: 20})\n",
      "defaultdict(<class 'int'>, {1: 21, 2: 23, 3: 22, 4: 28, 0: 21})\n",
      "defaultdict(<class 'int'>, {1: 21, 2: 23, 3: 22, 4: 28, 0: 22})\n",
      "defaultdict(<class 'int'>, {1: 22, 2: 23, 3: 22, 4: 28, 0: 22})\n",
      "defaultdict(<class 'int'>, {1: 22, 2: 24, 3: 22, 4: 28, 0: 22})\n",
      "defaultdict(<class 'int'>, {1: 22, 2: 24, 3: 23, 4: 28, 0: 22})\n",
      "defaultdict(<class 'int'>, {1: 22, 2: 24, 3: 23, 4: 29, 0: 22})\n",
      "defaultdict(<class 'int'>, {1: 23, 2: 24, 3: 23, 4: 29, 0: 22})\n",
      "defaultdict(<class 'int'>, {1: 23, 2: 24, 3: 23, 4: 30, 0: 22})\n",
      "defaultdict(<class 'int'>, {1: 23, 2: 24, 3: 23, 4: 30, 0: 23})\n",
      "defaultdict(<class 'int'>, {1: 24, 2: 24, 3: 23, 4: 30, 0: 23})\n",
      "defaultdict(<class 'int'>, {1: 24, 2: 24, 3: 23, 4: 31, 0: 23})\n",
      "defaultdict(<class 'int'>, {1: 25, 2: 24, 3: 23, 4: 31, 0: 23})\n",
      "defaultdict(<class 'int'>, {1: 25, 2: 24, 3: 23, 4: 31, 0: 24})\n",
      "defaultdict(<class 'int'>, {1: 26, 2: 24, 3: 23, 4: 31, 0: 24})\n",
      "defaultdict(<class 'int'>, {1: 26, 2: 25, 3: 23, 4: 31, 0: 24})\n",
      "defaultdict(<class 'int'>, {1: 26, 2: 25, 3: 24, 4: 31, 0: 24})\n",
      "defaultdict(<class 'int'>, {1: 26, 2: 25, 3: 24, 4: 32, 0: 24})\n",
      "defaultdict(<class 'int'>, {1: 27, 2: 25, 3: 24, 4: 32, 0: 24})\n",
      "defaultdict(<class 'int'>, {1: 27, 2: 26, 3: 24, 4: 32, 0: 24})\n",
      "defaultdict(<class 'int'>, {1: 27, 2: 26, 3: 24, 4: 33, 0: 24})\n",
      "defaultdict(<class 'int'>, {1: 27, 2: 26, 3: 24, 4: 33, 0: 25})\n",
      "defaultdict(<class 'int'>, {1: 27, 2: 26, 3: 24, 4: 33, 0: 26})\n",
      "defaultdict(<class 'int'>, {1: 28, 2: 26, 3: 24, 4: 33, 0: 26})\n",
      "defaultdict(<class 'int'>, {1: 28, 2: 26, 3: 25, 4: 33, 0: 26})\n",
      "defaultdict(<class 'int'>, {1: 28, 2: 26, 3: 25, 4: 34, 0: 26})\n",
      "defaultdict(<class 'int'>, {1: 28, 2: 26, 3: 25, 4: 34, 0: 27})\n",
      "defaultdict(<class 'int'>, {1: 29, 2: 26, 3: 25, 4: 34, 0: 27})\n",
      "defaultdict(<class 'int'>, {1: 30, 2: 26, 3: 25, 4: 34, 0: 27})\n",
      "defaultdict(<class 'int'>, {1: 30, 2: 26, 3: 26, 4: 34, 0: 27})\n",
      "defaultdict(<class 'int'>, {1: 31, 2: 26, 3: 26, 4: 34, 0: 27})\n",
      "defaultdict(<class 'int'>, {1: 31, 2: 26, 3: 26, 4: 35, 0: 27})\n",
      "defaultdict(<class 'int'>, {1: 31, 2: 26, 3: 26, 4: 35, 0: 28})\n",
      "defaultdict(<class 'int'>, {1: 32, 2: 26, 3: 26, 4: 35, 0: 28})\n",
      "defaultdict(<class 'int'>, {1: 32, 2: 26, 3: 26, 4: 35, 0: 29})\n",
      "defaultdict(<class 'int'>, {1: 32, 2: 26, 3: 26, 4: 36, 0: 29})\n",
      "defaultdict(<class 'int'>, {1: 32, 2: 27, 3: 26, 4: 36, 0: 29})\n",
      "defaultdict(<class 'int'>, {1: 32, 2: 27, 3: 26, 4: 37, 0: 29})\n",
      "defaultdict(<class 'int'>, {1: 32, 2: 28, 3: 26, 4: 37, 0: 29})\n",
      "defaultdict(<class 'int'>, {1: 33, 2: 28, 3: 26, 4: 37, 0: 29})\n",
      "defaultdict(<class 'int'>, {1: 33, 2: 28, 3: 26, 4: 38, 0: 29})\n",
      "defaultdict(<class 'int'>, {1: 34, 2: 28, 3: 26, 4: 38, 0: 29})\n",
      "defaultdict(<class 'int'>, {1: 35, 2: 28, 3: 26, 4: 38, 0: 29})\n",
      "defaultdict(<class 'int'>, {1: 36, 2: 28, 3: 26, 4: 38, 0: 29})\n",
      "defaultdict(<class 'int'>, {1: 36, 2: 28, 3: 26, 4: 39, 0: 29})\n",
      "defaultdict(<class 'int'>, {1: 36, 2: 28, 3: 26, 4: 39, 0: 30})\n",
      "defaultdict(<class 'int'>, {1: 37, 2: 28, 3: 26, 4: 39, 0: 30})\n",
      "defaultdict(<class 'int'>, {1: 37, 2: 28, 3: 27, 4: 39, 0: 30})\n",
      "defaultdict(<class 'int'>, {1: 37, 2: 28, 3: 27, 4: 40, 0: 30})\n",
      "defaultdict(<class 'int'>, {1: 37, 2: 28, 3: 28, 4: 40, 0: 30})\n",
      "defaultdict(<class 'int'>, {1: 37, 2: 29, 3: 28, 4: 40, 0: 30})\n",
      "defaultdict(<class 'int'>, {1: 37, 2: 30, 3: 28, 4: 40, 0: 30})\n",
      "defaultdict(<class 'int'>, {1: 37, 2: 30, 3: 29, 4: 40, 0: 30})\n",
      "defaultdict(<class 'int'>, {1: 37, 2: 30, 3: 29, 4: 41, 0: 30})\n",
      "defaultdict(<class 'int'>, {1: 37, 2: 31, 3: 29, 4: 41, 0: 30})\n",
      "defaultdict(<class 'int'>, {1: 37, 2: 32, 3: 29, 4: 41, 0: 30})\n",
      "defaultdict(<class 'int'>, {1: 37, 2: 32, 3: 29, 4: 41, 0: 31})\n",
      "defaultdict(<class 'int'>, {1: 38, 2: 32, 3: 29, 4: 41, 0: 31})\n",
      "defaultdict(<class 'int'>, {1: 39, 2: 32, 3: 29, 4: 41, 0: 31})\n",
      "defaultdict(<class 'int'>, {1: 40, 2: 32, 3: 29, 4: 41, 0: 31})\n",
      "defaultdict(<class 'int'>, {1: 40, 2: 33, 3: 29, 4: 41, 0: 31})\n",
      "defaultdict(<class 'int'>, {1: 40, 2: 33, 3: 30, 4: 41, 0: 31})\n",
      "defaultdict(<class 'int'>, {1: 41, 2: 33, 3: 30, 4: 41, 0: 31})\n",
      "defaultdict(<class 'int'>, {1: 41, 2: 33, 3: 31, 4: 41, 0: 31})\n",
      "defaultdict(<class 'int'>, {1: 41, 2: 33, 3: 31, 4: 42, 0: 31})\n",
      "defaultdict(<class 'int'>, {1: 42, 2: 33, 3: 31, 4: 42, 0: 31})\n",
      "defaultdict(<class 'int'>, {1: 43, 2: 33, 3: 31, 4: 42, 0: 31})\n",
      "defaultdict(<class 'int'>, {1: 43, 2: 33, 3: 32, 4: 42, 0: 31})\n",
      "defaultdict(<class 'int'>, {1: 43, 2: 33, 3: 32, 4: 43, 0: 31})\n",
      "defaultdict(<class 'int'>, {1: 43, 2: 33, 3: 32, 4: 43, 0: 32})\n",
      "defaultdict(<class 'int'>, {1: 44, 2: 33, 3: 32, 4: 43, 0: 32})\n",
      "defaultdict(<class 'int'>, {1: 44, 2: 33, 3: 33, 4: 43, 0: 32})\n",
      "defaultdict(<class 'int'>, {1: 44, 2: 34, 3: 33, 4: 43, 0: 32})\n",
      "defaultdict(<class 'int'>, {1: 44, 2: 34, 3: 33, 4: 44, 0: 32})\n",
      "defaultdict(<class 'int'>, {1: 45, 2: 34, 3: 33, 4: 44, 0: 32})\n",
      "defaultdict(<class 'int'>, {1: 45, 2: 34, 3: 34, 4: 44, 0: 32})\n",
      "defaultdict(<class 'int'>, {1: 45, 2: 34, 3: 34, 4: 45, 0: 32})\n",
      "defaultdict(<class 'int'>, {1: 46, 2: 34, 3: 34, 4: 45, 0: 32})\n",
      "defaultdict(<class 'int'>, {1: 46, 2: 34, 3: 35, 4: 45, 0: 32})\n",
      "defaultdict(<class 'int'>, {1: 46, 2: 34, 3: 35, 4: 45, 0: 33})\n",
      "defaultdict(<class 'int'>, {1: 46, 2: 34, 3: 35, 4: 46, 0: 33})\n",
      "defaultdict(<class 'int'>, {1: 47, 2: 34, 3: 35, 4: 46, 0: 33})\n",
      "defaultdict(<class 'int'>, {1: 47, 2: 35, 3: 35, 4: 46, 0: 33})\n",
      "defaultdict(<class 'int'>, {1: 47, 2: 35, 3: 35, 4: 47, 0: 33})\n",
      "defaultdict(<class 'int'>, {1: 47, 2: 36, 3: 35, 4: 47, 0: 33})\n",
      "defaultdict(<class 'int'>, {1: 47, 2: 36, 3: 36, 4: 47, 0: 33})\n",
      "defaultdict(<class 'int'>, {1: 47, 2: 36, 3: 36, 4: 48, 0: 33})\n",
      "defaultdict(<class 'int'>, {1: 47, 2: 36, 3: 36, 4: 48, 0: 34})\n",
      "defaultdict(<class 'int'>, {1: 48, 2: 36, 3: 36, 4: 48, 0: 34})\n",
      "defaultdict(<class 'int'>, {1: 48, 2: 36, 3: 37, 4: 48, 0: 34})\n",
      "defaultdict(<class 'int'>, {1: 48, 2: 36, 3: 37, 4: 49, 0: 34})\n",
      "defaultdict(<class 'int'>, {1: 48, 2: 36, 3: 37, 4: 49, 0: 35})\n",
      "defaultdict(<class 'int'>, {1: 49, 2: 36, 3: 37, 4: 49, 0: 35})\n",
      "defaultdict(<class 'int'>, {1: 49, 2: 36, 3: 37, 4: 50, 0: 35})\n",
      "defaultdict(<class 'int'>, {1: 49, 2: 37, 3: 37, 4: 50, 0: 35})\n",
      "defaultdict(<class 'int'>, {1: 49, 2: 37, 3: 37, 4: 51, 0: 35})\n",
      "defaultdict(<class 'int'>, {1: 49, 2: 37, 3: 37, 4: 51, 0: 36})\n",
      "defaultdict(<class 'int'>, {1: 50, 2: 37, 3: 37, 4: 51, 0: 36})\n",
      "defaultdict(<class 'int'>, {1: 50, 2: 37, 3: 37, 4: 51, 0: 37})\n",
      "defaultdict(<class 'int'>, {1: 51, 2: 37, 3: 37, 4: 51, 0: 37})\n",
      "defaultdict(<class 'int'>, {1: 51, 2: 37, 3: 38, 4: 51, 0: 37})\n",
      "defaultdict(<class 'int'>, {1: 51, 2: 37, 3: 38, 4: 52, 0: 37})\n",
      "defaultdict(<class 'int'>, {1: 52, 2: 37, 3: 38, 4: 52, 0: 37})\n",
      "defaultdict(<class 'int'>, {1: 52, 2: 37, 3: 38, 4: 53, 0: 37})\n",
      "defaultdict(<class 'int'>, {1: 53, 2: 37, 3: 38, 4: 53, 0: 37})\n",
      "defaultdict(<class 'int'>, {1: 53, 2: 38, 3: 38, 4: 53, 0: 37})\n",
      "defaultdict(<class 'int'>, {1: 53, 2: 38, 3: 38, 4: 54, 0: 37})\n",
      "defaultdict(<class 'int'>, {(2, 3): 17, (2, 4): 22, (3, 2): 17, (3, 4): 23, (4, 2): 22, (4, 3): 23, (0, 4): 20, (4, 0): 20, (0, 3): 12, (3, 0): 12, (0, 1): 18, (1, 0): 18, (1, 3): 18, (1, 4): 28, (3, 1): 18, (4, 1): 28, (0, 2): 4, (1, 2): 12, (2, 0): 4, (2, 1): 12})\n",
      "defaultdict(<class 'int'>, {(1, 0): 35, (1, 2): 41, (1, 3): 35, (1, 4): 25, (2, 0): 34, (2, 1): 26, (3, 0): 26, (3, 1): 20, (4, 0): 34, (4, 1): 26, (0, 1): 19, (0, 2): 33, (0, 3): 25, (4, 2): 32, (4, 3): 31, (3, 2): 21, (2, 3): 21, (2, 4): 16, (0, 4): 17, (3, 4): 15})\n"
     ]
    }
   ],
   "source": [
    "from collections import defaultdict\n",
    "# Now compute for all possible rules\n",
    "valid_rules = defaultdict(int)\n",
    "invalid_rules = defaultdict(int)\n",
    "num_occurences = defaultdict(int)\n",
    "print (num_occurences)\n",
    "for sample in X:\n",
    "    for premise in range(n_features):\n",
    "        if sample[premise] == 0: continue\n",
    "        # Record that the premise was bought in another transaction\n",
    "        num_occurences[premise] += 1\n",
    "        print (num_occurences)\n",
    "        for conclusion in range(n_features):\n",
    "            if premise == conclusion:  # It makes little sense to measure if X -> X.\n",
    "                continue\n",
    "            if sample[conclusion] == 1:\n",
    "                # This person also bought the conclusion item\n",
    "                valid_rules[(premise, conclusion)] += 1\n",
    "            else:\n",
    "                # This person bought the premise, but not the conclusion\n",
    "                invalid_rules[(premise, conclusion)] += 1\n",
    "print(valid_rules)\n",
    "print(invalid_rules)\n",
    "support = valid_rules\n",
    "confidence = defaultdict(float)\n",
    "for premise, conclusion in valid_rules.keys():\n",
    "    confidence[(premise, conclusion)] = valid_rules[(premise, conclusion)] / num_occurences[premise]"
   ]
  },
  {
   "cell_type": "code",
   "execution_count": 31,
   "metadata": {},
   "outputs": [
    {
     "name": "stdout",
     "output_type": "stream",
     "text": [
      "Rule: If a person buys cheese they will also buy apples\n",
      " - Confidence: 0.447\n",
      " - Support: 17\n",
      "\n",
      "Rule: If a person buys cheese they will also buy bananas\n",
      " - Confidence: 0.579\n",
      " - Support: 22\n",
      "\n",
      "Rule: If a person buys apples they will also buy cheese\n",
      " - Confidence: 0.447\n",
      " - Support: 17\n",
      "\n",
      "Rule: If a person buys apples they will also buy bananas\n",
      " - Confidence: 0.605\n",
      " - Support: 23\n",
      "\n",
      "Rule: If a person buys bananas they will also buy cheese\n",
      " - Confidence: 0.407\n",
      " - Support: 22\n",
      "\n",
      "Rule: If a person buys bananas they will also buy apples\n",
      " - Confidence: 0.426\n",
      " - Support: 23\n",
      "\n",
      "Rule: If a person buys bread they will also buy bananas\n",
      " - Confidence: 0.541\n",
      " - Support: 20\n",
      "\n",
      "Rule: If a person buys bananas they will also buy bread\n",
      " - Confidence: 0.370\n",
      " - Support: 20\n",
      "\n",
      "Rule: If a person buys bread they will also buy apples\n",
      " - Confidence: 0.324\n",
      " - Support: 12\n",
      "\n",
      "Rule: If a person buys apples they will also buy bread\n",
      " - Confidence: 0.316\n",
      " - Support: 12\n",
      "\n",
      "Rule: If a person buys bread they will also buy milk\n",
      " - Confidence: 0.486\n",
      " - Support: 18\n",
      "\n",
      "Rule: If a person buys milk they will also buy bread\n",
      " - Confidence: 0.340\n",
      " - Support: 18\n",
      "\n",
      "Rule: If a person buys milk they will also buy apples\n",
      " - Confidence: 0.340\n",
      " - Support: 18\n",
      "\n",
      "Rule: If a person buys milk they will also buy bananas\n",
      " - Confidence: 0.528\n",
      " - Support: 28\n",
      "\n",
      "Rule: If a person buys apples they will also buy milk\n",
      " - Confidence: 0.474\n",
      " - Support: 18\n",
      "\n",
      "Rule: If a person buys bananas they will also buy milk\n",
      " - Confidence: 0.519\n",
      " - Support: 28\n",
      "\n",
      "Rule: If a person buys bread they will also buy cheese\n",
      " - Confidence: 0.108\n",
      " - Support: 4\n",
      "\n",
      "Rule: If a person buys milk they will also buy cheese\n",
      " - Confidence: 0.226\n",
      " - Support: 12\n",
      "\n",
      "Rule: If a person buys cheese they will also buy bread\n",
      " - Confidence: 0.105\n",
      " - Support: 4\n",
      "\n",
      "Rule: If a person buys cheese they will also buy milk\n",
      " - Confidence: 0.316\n",
      " - Support: 12\n",
      "\n"
     ]
    }
   ],
   "source": [
    "for premise, conclusion in confidence:\n",
    "    premise_name = features[premise]\n",
    "    conclusion_name = features[conclusion]\n",
    "    print(\"Rule: If a person buys {0} they will also buy {1}\".format(premise_name, conclusion_name))\n",
    "    print(\" - Confidence: {0:.3f}\".format(confidence[(premise, conclusion)]))\n",
    "    print(\" - Support: {0}\".format(support[(premise, conclusion)]))\n",
    "    print(\"\")"
   ]
  },
  {
   "cell_type": "code",
   "execution_count": 32,
   "metadata": {
    "collapsed": true
   },
   "outputs": [],
   "source": [
    "def print_rule(premise, conclusion, support, confidence, features):\n",
    "    premise_name = features[premise]\n",
    "    conclusion_name = features[conclusion]\n",
    "    print(\"Rule: If a person buys {0} they will also buy {1}\".format(premise_name, conclusion_name))\n",
    "    print(\" - Confidence: {0:.3f}\".format(confidence[(premise, conclusion)]))\n",
    "    print(\" - Support: {0}\".format(support[(premise, conclusion)]))\n",
    "    print(\"\")"
   ]
  },
  {
   "cell_type": "code",
   "execution_count": 33,
   "metadata": {
    "scrolled": true
   },
   "outputs": [
    {
     "name": "stdout",
     "output_type": "stream",
     "text": [
      "Rule: If a person buys milk they will also buy apples\n",
      " - Confidence: 0.340\n",
      " - Support: 18\n",
      "\n"
     ]
    }
   ],
   "source": [
    "premise = 1\n",
    "conclusion = 3\n",
    "print_rule(premise, conclusion, support, confidence, features)"
   ]
  },
  {
   "cell_type": "code",
   "execution_count": 34,
   "metadata": {},
   "outputs": [
    {
     "name": "stdout",
     "output_type": "stream",
     "text": [
      "[((2, 3), 17),\n",
      " ((2, 4), 22),\n",
      " ((3, 2), 17),\n",
      " ((3, 4), 23),\n",
      " ((4, 2), 22),\n",
      " ((4, 3), 23),\n",
      " ((0, 4), 20),\n",
      " ((4, 0), 20),\n",
      " ((0, 3), 12),\n",
      " ((3, 0), 12),\n",
      " ((0, 1), 18),\n",
      " ((1, 0), 18),\n",
      " ((1, 3), 18),\n",
      " ((1, 4), 28),\n",
      " ((3, 1), 18),\n",
      " ((4, 1), 28),\n",
      " ((0, 2), 4),\n",
      " ((1, 2), 12),\n",
      " ((2, 0), 4),\n",
      " ((2, 1), 12)]\n"
     ]
    }
   ],
   "source": [
    "# Sort by support\n",
    "from pprint import pprint\n",
    "pprint(list(support.items()))"
   ]
  },
  {
   "cell_type": "code",
   "execution_count": 35,
   "metadata": {
    "scrolled": false
   },
   "outputs": [
    {
     "name": "stdout",
     "output_type": "stream",
     "text": [
      "[((2, 4), 27), ((4, 2), 27), ((2, 3), 25), ((3, 2), 25), ((3, 4), 21), ((4, 3), 21), ((1, 4), 19), ((4, 1), 19), ((0, 4), 17), ((4, 0), 17), ((0, 1), 14), ((1, 0), 14), ((1, 3), 9), ((3, 1), 9), ((1, 2), 7), ((2, 1), 7), ((0, 3), 5), ((3, 0), 5), ((0, 2), 4), ((2, 0), 4)]\n",
      "\n",
      "operator.itemgetter(1)\n",
      "[((1, 4), 28), ((4, 1), 28), ((3, 4), 23), ((4, 3), 23), ((2, 4), 22), ((4, 2), 22), ((0, 4), 20), ((4, 0), 20), ((0, 1), 18), ((1, 0), 18), ((1, 3), 18), ((3, 1), 18), ((2, 3), 17), ((3, 2), 17), ((0, 3), 12), ((3, 0), 12), ((1, 2), 12), ((2, 1), 12), ((0, 2), 4), ((2, 0), 4)]\n"
     ]
    }
   ],
   "source": [
    "from operator import itemgetter\n",
    "print(sorted_support)\n",
    "print(\"\")\n",
    "sorted_support = sorted(support.items(), key=itemgetter(1), reverse=True)\n",
    "key = itemgetter(1)\n",
    "print(key)\n",
    "print(sorted_support)"
   ]
  },
  {
   "cell_type": "code",
   "execution_count": 36,
   "metadata": {},
   "outputs": [
    {
     "name": "stdout",
     "output_type": "stream",
     "text": [
      "Rule #1\n",
      "Rule: If a person buys milk they will also buy bananas\n",
      " - Confidence: 0.528\n",
      " - Support: 28\n",
      "\n",
      "Rule #2\n",
      "Rule: If a person buys bananas they will also buy milk\n",
      " - Confidence: 0.519\n",
      " - Support: 28\n",
      "\n",
      "Rule #3\n",
      "Rule: If a person buys apples they will also buy bananas\n",
      " - Confidence: 0.605\n",
      " - Support: 23\n",
      "\n",
      "Rule #4\n",
      "Rule: If a person buys bananas they will also buy apples\n",
      " - Confidence: 0.426\n",
      " - Support: 23\n",
      "\n",
      "Rule #5\n",
      "Rule: If a person buys cheese they will also buy bananas\n",
      " - Confidence: 0.579\n",
      " - Support: 22\n",
      "\n"
     ]
    }
   ],
   "source": [
    "for index in range(5):\n",
    "    print(\"Rule #{0}\".format(index + 1))\n",
    "    (premise, conclusion) = sorted_support[index][0]\n",
    "    print_rule(premise, conclusion, support, confidence, features)"
   ]
  },
  {
   "cell_type": "code",
   "execution_count": 37,
   "metadata": {},
   "outputs": [],
   "source": [
    "sorted_confidence = sorted(confidence.items(), key=itemgetter(1), reverse=True)"
   ]
  },
  {
   "cell_type": "code",
   "execution_count": 23,
   "metadata": {
    "scrolled": false
   },
   "outputs": [
    {
     "name": "stdout",
     "output_type": "stream",
     "text": [
      "Rule #1\n",
      "Rule: If a person buys apples they will also buy cheese\n",
      " - Confidence: 0.694\n",
      " - Support: 25\n",
      "\n",
      "Rule #2\n",
      "Rule: If a person buys cheese they will also buy bananas\n",
      " - Confidence: 0.659\n",
      " - Support: 27\n",
      "\n",
      "Rule #3\n",
      "Rule: If a person buys bread they will also buy bananas\n",
      " - Confidence: 0.630\n",
      " - Support: 17\n",
      "\n",
      "Rule #4\n",
      "Rule: If a person buys cheese they will also buy apples\n",
      " - Confidence: 0.610\n",
      " - Support: 25\n",
      "\n",
      "Rule #5\n",
      "Rule: If a person buys apples they will also buy bananas\n",
      " - Confidence: 0.583\n",
      " - Support: 21\n",
      "\n"
     ]
    }
   ],
   "source": [
    "for index in range(5):\n",
    "    print(\"Rule #{0}\".format(index + 1))\n",
    "    (premise, conclusion) = sorted_confidence[index][0]\n",
    "    print_rule(premise, conclusion, support, confidence, features)"
   ]
  },
  {
   "cell_type": "code",
   "execution_count": null,
   "metadata": {
    "collapsed": true
   },
   "outputs": [],
   "source": []
  }
 ],
 "metadata": {
  "kernelspec": {
   "display_name": "Python 3",
   "language": "python",
   "name": "python3"
  },
  "language_info": {
   "codemirror_mode": {
    "name": "ipython",
    "version": 3
   },
   "file_extension": ".py",
   "mimetype": "text/x-python",
   "name": "python",
   "nbconvert_exporter": "python",
   "pygments_lexer": "ipython3",
   "version": "3.6.1"
  }
 },
 "nbformat": 4,
 "nbformat_minor": 1
}
