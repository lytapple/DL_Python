{
 "cells": [
  {
   "cell_type": "code",
   "execution_count": 6,
   "metadata": {},
   "outputs": [
    {
     "name": "stdout",
     "output_type": "stream",
     "text": [
      "This dataset has 100 samples and 5 features\n"
     ]
    }
   ],
   "source": [
    "import numpy as np\n",
    "dataset_filename = \"affinity_dataset.txt\"\n",
    "X = np.loadtxt(dataset_filename)\n",
    "n_samples, n_features = X.shape\n",
    "print(\"This dataset has {0} samples and {1} features\".format(n_samples, n_features))"
   ]
  },
  {
   "cell_type": "code",
   "execution_count": 7,
   "metadata": {},
   "outputs": [
    {
     "name": "stdout",
     "output_type": "stream",
     "text": [
      "[[ 0.  0.  1.  1.  1.]\n",
      " [ 1.  1.  0.  1.  0.]\n",
      " [ 1.  0.  1.  1.  0.]\n",
      " [ 0.  0.  1.  1.  1.]\n",
      " [ 0.  1.  0.  0.  1.]]\n"
     ]
    }
   ],
   "source": [
    "print(X[:5])"
   ]
  },
  {
   "cell_type": "code",
   "execution_count": 8,
   "metadata": {
    "collapsed": true
   },
   "outputs": [],
   "source": [
    "# The names of the features, for your reference.\n",
    "features = [\"bread\", \"milk\", \"cheese\", \"apples\", \"bananas\"]"
   ]
  },
  {
   "cell_type": "markdown",
   "metadata": {},
   "source": [
    "In our first example, we will compute the Support and Confidence of the rule \"If a person buys Apples, they also buy Bananas\"."
   ]
  },
  {
   "cell_type": "code",
   "execution_count": 9,
   "metadata": {},
   "outputs": [
    {
     "name": "stdout",
     "output_type": "stream",
     "text": [
      "36 people bought Apples\n"
     ]
    }
   ],
   "source": [
    "# First, how many rows contain our premise: that a person is buying apples\n",
    "num_apple_purchases = 0\n",
    "for sample in X:\n",
    "    if sample[3] == 1:  # This person bought Apples\n",
    "        num_apple_purchases += 1\n",
    "print(\"{0} people bought Apples\".format(num_apple_purchases))"
   ]
  },
  {
   "cell_type": "code",
   "execution_count": 10,
   "metadata": {},
   "outputs": [
    {
     "name": "stdout",
     "output_type": "stream",
     "text": [
      "21 cases of the rule being valid were discovered\n",
      "15 cases of the rule being invalid were discovered\n"
     ]
    }
   ],
   "source": [
    "# How many of the cases that a person bought Apples involved the people purchasing Bananas too?\n",
    "# Record both cases where the rule is valid and is invalid.\n",
    "rule_valid = 0\n",
    "rule_invalid = 0\n",
    "for sample in X:\n",
    "    if sample[3] == 1:  # This person bought Apples\n",
    "        if sample[4] == 1:\n",
    "            # This person bought both Apples and Bananas\n",
    "            rule_valid += 1\n",
    "        else:\n",
    "            # This person bought Apples, but not Bananas\n",
    "            rule_invalid += 1\n",
    "print(\"{0} cases of the rule being valid were discovered\".format(rule_valid))\n",
    "print(\"{0} cases of the rule being invalid were discovered\".format(rule_invalid))"
   ]
  },
  {
   "cell_type": "code",
   "execution_count": 11,
   "metadata": {},
   "outputs": [
    {
     "name": "stdout",
     "output_type": "stream",
     "text": [
      "36\n",
      "The support is 21 and the confidence is 0.583.\n",
      "As a percentage, that is 58.3%.\n"
     ]
    }
   ],
   "source": [
    "# Now we have all the information needed to compute Support and Confidence\n",
    "support = rule_valid  # The Support is the number of times the rule is discovered.\n",
    "confidence = rule_valid / num_apple_purchases\n",
    "print(\"{0}\".format(num_apple_purchases))\n",
    "print(\"The support is {0} and the confidence is {1:.3f}.\".format(support, confidence))\n",
    "# Confidence can be thought of as a percentage using the following:\n",
    "print(\"As a percentage, that is {0:.1f}%.\".format(100 * confidence))"
   ]
  },
  {
   "cell_type": "code",
   "execution_count": 17,
   "metadata": {},
   "outputs": [
    {
     "name": "stdout",
     "output_type": "stream",
     "text": [
      "defaultdict(<class 'int'>, {})\n",
      "defaultdict(<class 'int'>, {2: 1})\n",
      "defaultdict(<class 'int'>, {2: 1, 3: 1})\n",
      "defaultdict(<class 'int'>, {2: 1, 3: 1, 4: 1})\n",
      "defaultdict(<class 'int'>, {2: 1, 3: 1, 4: 1, 0: 1})\n",
      "defaultdict(<class 'int'>, {2: 1, 3: 1, 4: 1, 0: 1, 1: 1})\n",
      "defaultdict(<class 'int'>, {2: 1, 3: 2, 4: 1, 0: 1, 1: 1})\n",
      "defaultdict(<class 'int'>, {2: 1, 3: 2, 4: 1, 0: 2, 1: 1})\n",
      "defaultdict(<class 'int'>, {2: 2, 3: 2, 4: 1, 0: 2, 1: 1})\n",
      "defaultdict(<class 'int'>, {2: 2, 3: 3, 4: 1, 0: 2, 1: 1})\n",
      "defaultdict(<class 'int'>, {2: 3, 3: 3, 4: 1, 0: 2, 1: 1})\n",
      "defaultdict(<class 'int'>, {2: 3, 3: 4, 4: 1, 0: 2, 1: 1})\n",
      "defaultdict(<class 'int'>, {2: 3, 3: 4, 4: 2, 0: 2, 1: 1})\n",
      "defaultdict(<class 'int'>, {2: 3, 3: 4, 4: 2, 0: 2, 1: 2})\n",
      "defaultdict(<class 'int'>, {2: 3, 3: 4, 4: 3, 0: 2, 1: 2})\n",
      "defaultdict(<class 'int'>, {2: 3, 3: 4, 4: 3, 0: 2, 1: 3})\n",
      "defaultdict(<class 'int'>, {2: 3, 3: 4, 4: 3, 0: 3, 1: 3})\n",
      "defaultdict(<class 'int'>, {2: 3, 3: 4, 4: 4, 0: 3, 1: 3})\n",
      "defaultdict(<class 'int'>, {2: 3, 3: 4, 4: 4, 0: 4, 1: 3})\n",
      "defaultdict(<class 'int'>, {2: 3, 3: 4, 4: 5, 0: 4, 1: 3})\n",
      "defaultdict(<class 'int'>, {2: 3, 3: 5, 4: 5, 0: 4, 1: 3})\n",
      "defaultdict(<class 'int'>, {2: 3, 3: 5, 4: 6, 0: 4, 1: 3})\n",
      "defaultdict(<class 'int'>, {2: 4, 3: 5, 4: 6, 0: 4, 1: 3})\n",
      "defaultdict(<class 'int'>, {2: 4, 3: 6, 4: 6, 0: 4, 1: 3})\n",
      "defaultdict(<class 'int'>, {2: 4, 3: 6, 4: 7, 0: 4, 1: 3})\n",
      "defaultdict(<class 'int'>, {2: 4, 3: 6, 4: 7, 0: 5, 1: 3})\n",
      "defaultdict(<class 'int'>, {2: 4, 3: 6, 4: 7, 0: 5, 1: 4})\n",
      "defaultdict(<class 'int'>, {2: 4, 3: 6, 4: 8, 0: 5, 1: 4})\n",
      "defaultdict(<class 'int'>, {2: 4, 3: 6, 4: 8, 0: 5, 1: 5})\n",
      "defaultdict(<class 'int'>, {2: 4, 3: 6, 4: 9, 0: 5, 1: 5})\n",
      "defaultdict(<class 'int'>, {2: 5, 3: 6, 4: 9, 0: 5, 1: 5})\n",
      "defaultdict(<class 'int'>, {2: 5, 3: 6, 4: 10, 0: 5, 1: 5})\n",
      "defaultdict(<class 'int'>, {2: 5, 3: 6, 4: 10, 0: 5, 1: 6})\n",
      "defaultdict(<class 'int'>, {2: 5, 3: 6, 4: 11, 0: 5, 1: 6})\n",
      "defaultdict(<class 'int'>, {2: 6, 3: 6, 4: 11, 0: 5, 1: 6})\n",
      "defaultdict(<class 'int'>, {2: 6, 3: 7, 4: 11, 0: 5, 1: 6})\n",
      "defaultdict(<class 'int'>, {2: 6, 3: 7, 4: 12, 0: 5, 1: 6})\n",
      "defaultdict(<class 'int'>, {2: 6, 3: 7, 4: 12, 0: 6, 1: 6})\n",
      "defaultdict(<class 'int'>, {2: 6, 3: 7, 4: 13, 0: 6, 1: 6})\n",
      "defaultdict(<class 'int'>, {2: 7, 3: 7, 4: 13, 0: 6, 1: 6})\n",
      "defaultdict(<class 'int'>, {2: 7, 3: 8, 4: 13, 0: 6, 1: 6})\n",
      "defaultdict(<class 'int'>, {2: 7, 3: 8, 4: 14, 0: 6, 1: 6})\n",
      "defaultdict(<class 'int'>, {2: 7, 3: 8, 4: 14, 0: 7, 1: 6})\n",
      "defaultdict(<class 'int'>, {2: 7, 3: 8, 4: 14, 0: 7, 1: 7})\n",
      "defaultdict(<class 'int'>, {2: 7, 3: 8, 4: 14, 0: 7, 1: 8})\n",
      "defaultdict(<class 'int'>, {2: 8, 3: 8, 4: 14, 0: 7, 1: 8})\n",
      "defaultdict(<class 'int'>, {2: 8, 3: 8, 4: 14, 0: 7, 1: 9})\n",
      "defaultdict(<class 'int'>, {2: 8, 3: 8, 4: 15, 0: 7, 1: 9})\n",
      "defaultdict(<class 'int'>, {2: 8, 3: 8, 4: 15, 0: 7, 1: 10})\n",
      "defaultdict(<class 'int'>, {2: 8, 3: 8, 4: 15, 0: 7, 1: 11})\n",
      "defaultdict(<class 'int'>, {2: 8, 3: 8, 4: 16, 0: 7, 1: 11})\n",
      "defaultdict(<class 'int'>, {2: 9, 3: 8, 4: 16, 0: 7, 1: 11})\n",
      "defaultdict(<class 'int'>, {2: 9, 3: 9, 4: 16, 0: 7, 1: 11})\n",
      "defaultdict(<class 'int'>, {2: 9, 3: 9, 4: 17, 0: 7, 1: 11})\n",
      "defaultdict(<class 'int'>, {2: 10, 3: 9, 4: 17, 0: 7, 1: 11})\n",
      "defaultdict(<class 'int'>, {2: 10, 3: 10, 4: 17, 0: 7, 1: 11})\n",
      "defaultdict(<class 'int'>, {2: 11, 3: 10, 4: 17, 0: 7, 1: 11})\n",
      "defaultdict(<class 'int'>, {2: 11, 3: 10, 4: 18, 0: 7, 1: 11})\n",
      "defaultdict(<class 'int'>, {2: 11, 3: 10, 4: 19, 0: 7, 1: 11})\n",
      "defaultdict(<class 'int'>, {2: 11, 3: 10, 4: 19, 0: 7, 1: 12})\n",
      "defaultdict(<class 'int'>, {2: 11, 3: 10, 4: 19, 0: 7, 1: 13})\n",
      "defaultdict(<class 'int'>, {2: 11, 3: 11, 4: 19, 0: 7, 1: 13})\n",
      "defaultdict(<class 'int'>, {2: 11, 3: 11, 4: 19, 0: 8, 1: 13})\n",
      "defaultdict(<class 'int'>, {2: 11, 3: 11, 4: 19, 0: 8, 1: 14})\n",
      "defaultdict(<class 'int'>, {2: 12, 3: 11, 4: 19, 0: 8, 1: 14})\n",
      "defaultdict(<class 'int'>, {2: 12, 3: 11, 4: 20, 0: 8, 1: 14})\n",
      "defaultdict(<class 'int'>, {2: 12, 3: 11, 4: 20, 0: 9, 1: 14})\n",
      "defaultdict(<class 'int'>, {2: 12, 3: 11, 4: 20, 0: 9, 1: 15})\n",
      "defaultdict(<class 'int'>, {2: 12, 3: 11, 4: 21, 0: 9, 1: 15})\n",
      "defaultdict(<class 'int'>, {2: 13, 3: 11, 4: 21, 0: 9, 1: 15})\n",
      "defaultdict(<class 'int'>, {2: 13, 3: 12, 4: 21, 0: 9, 1: 15})\n",
      "defaultdict(<class 'int'>, {2: 13, 3: 12, 4: 22, 0: 9, 1: 15})\n",
      "defaultdict(<class 'int'>, {2: 14, 3: 12, 4: 22, 0: 9, 1: 15})\n",
      "defaultdict(<class 'int'>, {2: 14, 3: 12, 4: 23, 0: 9, 1: 15})\n",
      "defaultdict(<class 'int'>, {2: 15, 3: 12, 4: 23, 0: 9, 1: 15})\n",
      "defaultdict(<class 'int'>, {2: 15, 3: 13, 4: 23, 0: 9, 1: 15})\n",
      "defaultdict(<class 'int'>, {2: 15, 3: 13, 4: 24, 0: 9, 1: 15})\n",
      "defaultdict(<class 'int'>, {2: 16, 3: 13, 4: 24, 0: 9, 1: 15})\n",
      "defaultdict(<class 'int'>, {2: 16, 3: 14, 4: 24, 0: 9, 1: 15})\n",
      "defaultdict(<class 'int'>, {2: 16, 3: 14, 4: 24, 0: 9, 1: 16})\n",
      "defaultdict(<class 'int'>, {2: 17, 3: 14, 4: 24, 0: 9, 1: 16})\n",
      "defaultdict(<class 'int'>, {2: 17, 3: 14, 4: 25, 0: 9, 1: 16})\n",
      "defaultdict(<class 'int'>, {2: 18, 3: 14, 4: 25, 0: 9, 1: 16})\n",
      "defaultdict(<class 'int'>, {2: 18, 3: 15, 4: 25, 0: 9, 1: 16})\n",
      "defaultdict(<class 'int'>, {2: 18, 3: 15, 4: 25, 0: 9, 1: 17})\n",
      "defaultdict(<class 'int'>, {2: 18, 3: 15, 4: 26, 0: 9, 1: 17})\n",
      "defaultdict(<class 'int'>, {2: 18, 3: 15, 4: 27, 0: 9, 1: 17})\n",
      "defaultdict(<class 'int'>, {2: 19, 3: 15, 4: 27, 0: 9, 1: 17})\n",
      "defaultdict(<class 'int'>, {2: 19, 3: 15, 4: 28, 0: 9, 1: 17})\n",
      "defaultdict(<class 'int'>, {2: 19, 3: 15, 4: 28, 0: 10, 1: 17})\n",
      "defaultdict(<class 'int'>, {2: 19, 3: 15, 4: 28, 0: 10, 1: 18})\n",
      "defaultdict(<class 'int'>, {2: 19, 3: 16, 4: 28, 0: 10, 1: 18})\n",
      "defaultdict(<class 'int'>, {2: 19, 3: 16, 4: 29, 0: 10, 1: 18})\n",
      "defaultdict(<class 'int'>, {2: 19, 3: 16, 4: 29, 0: 11, 1: 18})\n",
      "defaultdict(<class 'int'>, {2: 19, 3: 16, 4: 30, 0: 11, 1: 18})\n",
      "defaultdict(<class 'int'>, {2: 20, 3: 16, 4: 30, 0: 11, 1: 18})\n",
      "defaultdict(<class 'int'>, {2: 20, 3: 17, 4: 30, 0: 11, 1: 18})\n",
      "defaultdict(<class 'int'>, {2: 20, 3: 17, 4: 31, 0: 11, 1: 18})\n",
      "defaultdict(<class 'int'>, {2: 20, 3: 17, 4: 31, 0: 11, 1: 19})\n",
      "defaultdict(<class 'int'>, {2: 20, 3: 17, 4: 31, 0: 11, 1: 20})\n",
      "defaultdict(<class 'int'>, {2: 20, 3: 18, 4: 31, 0: 11, 1: 20})\n",
      "defaultdict(<class 'int'>, {2: 20, 3: 18, 4: 32, 0: 11, 1: 20})\n",
      "defaultdict(<class 'int'>, {2: 20, 3: 18, 4: 32, 0: 11, 1: 21})\n",
      "defaultdict(<class 'int'>, {2: 20, 3: 18, 4: 32, 0: 11, 1: 22})\n",
      "defaultdict(<class 'int'>, {2: 21, 3: 18, 4: 32, 0: 11, 1: 22})\n",
      "defaultdict(<class 'int'>, {2: 21, 3: 19, 4: 32, 0: 11, 1: 22})\n",
      "defaultdict(<class 'int'>, {2: 22, 3: 19, 4: 32, 0: 11, 1: 22})\n",
      "defaultdict(<class 'int'>, {2: 22, 3: 20, 4: 32, 0: 11, 1: 22})\n",
      "defaultdict(<class 'int'>, {2: 22, 3: 20, 4: 33, 0: 11, 1: 22})\n",
      "defaultdict(<class 'int'>, {2: 22, 3: 20, 4: 33, 0: 11, 1: 23})\n",
      "defaultdict(<class 'int'>, {2: 22, 3: 21, 4: 33, 0: 11, 1: 23})\n",
      "defaultdict(<class 'int'>, {2: 22, 3: 21, 4: 33, 0: 11, 1: 24})\n",
      "defaultdict(<class 'int'>, {2: 23, 3: 21, 4: 33, 0: 11, 1: 24})\n",
      "defaultdict(<class 'int'>, {2: 24, 3: 21, 4: 33, 0: 11, 1: 24})\n",
      "defaultdict(<class 'int'>, {2: 24, 3: 22, 4: 33, 0: 11, 1: 24})\n",
      "defaultdict(<class 'int'>, {2: 25, 3: 22, 4: 33, 0: 11, 1: 24})\n",
      "defaultdict(<class 'int'>, {2: 25, 3: 23, 4: 33, 0: 11, 1: 24})\n",
      "defaultdict(<class 'int'>, {2: 25, 3: 23, 4: 34, 0: 11, 1: 24})\n",
      "defaultdict(<class 'int'>, {2: 25, 3: 23, 4: 34, 0: 12, 1: 24})\n",
      "defaultdict(<class 'int'>, {2: 25, 3: 23, 4: 34, 0: 12, 1: 25})\n",
      "defaultdict(<class 'int'>, {2: 25, 3: 24, 4: 34, 0: 12, 1: 25})\n",
      "defaultdict(<class 'int'>, {2: 25, 3: 24, 4: 34, 0: 13, 1: 25})\n",
      "defaultdict(<class 'int'>, {2: 25, 3: 24, 4: 35, 0: 13, 1: 25})\n",
      "defaultdict(<class 'int'>, {2: 25, 3: 24, 4: 35, 0: 13, 1: 26})\n",
      "defaultdict(<class 'int'>, {2: 25, 3: 24, 4: 36, 0: 13, 1: 26})\n",
      "defaultdict(<class 'int'>, {2: 26, 3: 24, 4: 36, 0: 13, 1: 26})\n",
      "defaultdict(<class 'int'>, {2: 26, 3: 25, 4: 36, 0: 13, 1: 26})\n",
      "defaultdict(<class 'int'>, {2: 26, 3: 25, 4: 37, 0: 13, 1: 26})\n",
      "defaultdict(<class 'int'>, {2: 26, 3: 25, 4: 37, 0: 13, 1: 27})\n",
      "defaultdict(<class 'int'>, {2: 27, 3: 25, 4: 37, 0: 13, 1: 27})\n",
      "defaultdict(<class 'int'>, {2: 27, 3: 26, 4: 37, 0: 13, 1: 27})\n",
      "defaultdict(<class 'int'>, {2: 27, 3: 26, 4: 38, 0: 13, 1: 27})\n",
      "defaultdict(<class 'int'>, {2: 27, 3: 26, 4: 38, 0: 14, 1: 27})\n",
      "defaultdict(<class 'int'>, {2: 27, 3: 26, 4: 38, 0: 14, 1: 28})\n",
      "defaultdict(<class 'int'>, {2: 28, 3: 26, 4: 38, 0: 14, 1: 28})\n",
      "defaultdict(<class 'int'>, {2: 28, 3: 26, 4: 39, 0: 14, 1: 28})\n",
      "defaultdict(<class 'int'>, {2: 28, 3: 26, 4: 39, 0: 15, 1: 28})\n",
      "defaultdict(<class 'int'>, {2: 28, 3: 26, 4: 40, 0: 15, 1: 28})\n",
      "defaultdict(<class 'int'>, {2: 28, 3: 26, 4: 40, 0: 16, 1: 28})\n",
      "defaultdict(<class 'int'>, {2: 28, 3: 26, 4: 40, 0: 16, 1: 29})\n",
      "defaultdict(<class 'int'>, {2: 28, 3: 26, 4: 40, 0: 16, 1: 30})\n",
      "defaultdict(<class 'int'>, {2: 29, 3: 26, 4: 40, 0: 16, 1: 30})\n",
      "defaultdict(<class 'int'>, {2: 29, 3: 26, 4: 41, 0: 16, 1: 30})\n",
      "defaultdict(<class 'int'>, {2: 29, 3: 26, 4: 41, 0: 16, 1: 31})\n",
      "defaultdict(<class 'int'>, {2: 30, 3: 26, 4: 41, 0: 16, 1: 31})\n",
      "defaultdict(<class 'int'>, {2: 30, 3: 27, 4: 41, 0: 16, 1: 31})\n",
      "defaultdict(<class 'int'>, {2: 30, 3: 27, 4: 42, 0: 16, 1: 31})\n",
      "defaultdict(<class 'int'>, {2: 30, 3: 27, 4: 42, 0: 16, 1: 32})\n",
      "defaultdict(<class 'int'>, {2: 30, 3: 27, 4: 43, 0: 16, 1: 32})\n",
      "defaultdict(<class 'int'>, {2: 30, 3: 27, 4: 43, 0: 17, 1: 32})\n",
      "defaultdict(<class 'int'>, {2: 30, 3: 27, 4: 44, 0: 17, 1: 32})\n",
      "defaultdict(<class 'int'>, {2: 30, 3: 27, 4: 44, 0: 18, 1: 32})\n",
      "defaultdict(<class 'int'>, {2: 30, 3: 27, 4: 45, 0: 18, 1: 32})\n",
      "defaultdict(<class 'int'>, {2: 30, 3: 27, 4: 45, 0: 18, 1: 33})\n",
      "defaultdict(<class 'int'>, {2: 30, 3: 27, 4: 46, 0: 18, 1: 33})\n",
      "defaultdict(<class 'int'>, {2: 31, 3: 27, 4: 46, 0: 18, 1: 33})\n",
      "defaultdict(<class 'int'>, {2: 31, 3: 28, 4: 46, 0: 18, 1: 33})\n",
      "defaultdict(<class 'int'>, {2: 31, 3: 28, 4: 47, 0: 18, 1: 33})\n",
      "defaultdict(<class 'int'>, {2: 31, 3: 28, 4: 47, 0: 19, 1: 33})\n",
      "defaultdict(<class 'int'>, {2: 32, 3: 28, 4: 47, 0: 19, 1: 33})\n",
      "defaultdict(<class 'int'>, {2: 32, 3: 28, 4: 48, 0: 19, 1: 33})\n",
      "defaultdict(<class 'int'>, {2: 32, 3: 28, 4: 48, 0: 20, 1: 33})\n",
      "defaultdict(<class 'int'>, {2: 32, 3: 28, 4: 48, 0: 20, 1: 34})\n",
      "defaultdict(<class 'int'>, {2: 32, 3: 28, 4: 49, 0: 20, 1: 34})\n",
      "defaultdict(<class 'int'>, {2: 32, 3: 28, 4: 49, 0: 20, 1: 35})\n",
      "defaultdict(<class 'int'>, {2: 32, 3: 28, 4: 50, 0: 20, 1: 35})\n",
      "defaultdict(<class 'int'>, {2: 32, 3: 28, 4: 50, 0: 21, 1: 35})\n",
      "defaultdict(<class 'int'>, {2: 32, 3: 28, 4: 50, 0: 21, 1: 36})\n",
      "defaultdict(<class 'int'>, {2: 33, 3: 28, 4: 50, 0: 21, 1: 36})\n",
      "defaultdict(<class 'int'>, {2: 33, 3: 28, 4: 51, 0: 21, 1: 36})\n",
      "defaultdict(<class 'int'>, {2: 34, 3: 28, 4: 51, 0: 21, 1: 36})\n",
      "defaultdict(<class 'int'>, {2: 34, 3: 29, 4: 51, 0: 21, 1: 36})\n",
      "defaultdict(<class 'int'>, {2: 34, 3: 29, 4: 52, 0: 21, 1: 36})\n",
      "defaultdict(<class 'int'>, {2: 34, 3: 29, 4: 52, 0: 22, 1: 36})\n",
      "defaultdict(<class 'int'>, {2: 35, 3: 29, 4: 52, 0: 22, 1: 36})\n",
      "defaultdict(<class 'int'>, {2: 35, 3: 30, 4: 52, 0: 22, 1: 36})\n",
      "defaultdict(<class 'int'>, {2: 35, 3: 30, 4: 53, 0: 22, 1: 36})\n",
      "defaultdict(<class 'int'>, {2: 35, 3: 30, 4: 53, 0: 23, 1: 36})\n",
      "defaultdict(<class 'int'>, {2: 35, 3: 30, 4: 53, 0: 23, 1: 37})\n",
      "defaultdict(<class 'int'>, {2: 35, 3: 31, 4: 53, 0: 23, 1: 37})\n",
      "defaultdict(<class 'int'>, {2: 36, 3: 31, 4: 53, 0: 23, 1: 37})\n",
      "defaultdict(<class 'int'>, {2: 37, 3: 31, 4: 53, 0: 23, 1: 37})\n",
      "defaultdict(<class 'int'>, {2: 37, 3: 31, 4: 54, 0: 23, 1: 37})\n",
      "defaultdict(<class 'int'>, {2: 37, 3: 31, 4: 54, 0: 23, 1: 38})\n",
      "defaultdict(<class 'int'>, {2: 37, 3: 31, 4: 54, 0: 24, 1: 38})\n",
      "defaultdict(<class 'int'>, {2: 37, 3: 31, 4: 54, 0: 24, 1: 39})\n",
      "defaultdict(<class 'int'>, {2: 37, 3: 32, 4: 54, 0: 24, 1: 39})\n",
      "defaultdict(<class 'int'>, {2: 37, 3: 33, 4: 54, 0: 24, 1: 39})\n",
      "defaultdict(<class 'int'>, {2: 37, 3: 33, 4: 55, 0: 24, 1: 39})\n",
      "defaultdict(<class 'int'>, {2: 37, 3: 33, 4: 55, 0: 24, 1: 40})\n",
      "defaultdict(<class 'int'>, {2: 37, 3: 33, 4: 55, 0: 24, 1: 41})\n",
      "defaultdict(<class 'int'>, {2: 37, 3: 33, 4: 55, 0: 25, 1: 41})\n",
      "defaultdict(<class 'int'>, {2: 37, 3: 33, 4: 55, 0: 25, 1: 42})\n",
      "defaultdict(<class 'int'>, {2: 37, 3: 33, 4: 56, 0: 25, 1: 42})\n",
      "defaultdict(<class 'int'>, {2: 38, 3: 33, 4: 56, 0: 25, 1: 42})\n",
      "defaultdict(<class 'int'>, {2: 38, 3: 33, 4: 56, 0: 25, 1: 43})\n",
      "defaultdict(<class 'int'>, {2: 38, 3: 33, 4: 57, 0: 25, 1: 43})\n",
      "defaultdict(<class 'int'>, {2: 38, 3: 33, 4: 57, 0: 26, 1: 43})\n",
      "defaultdict(<class 'int'>, {2: 38, 3: 33, 4: 57, 0: 26, 1: 44})\n",
      "defaultdict(<class 'int'>, {2: 38, 3: 34, 4: 57, 0: 26, 1: 44})\n",
      "defaultdict(<class 'int'>, {2: 38, 3: 34, 4: 57, 0: 27, 1: 44})\n",
      "defaultdict(<class 'int'>, {2: 38, 3: 34, 4: 58, 0: 27, 1: 44})\n",
      "defaultdict(<class 'int'>, {2: 38, 3: 34, 4: 58, 0: 27, 1: 45})\n",
      "defaultdict(<class 'int'>, {2: 39, 3: 34, 4: 58, 0: 27, 1: 45})\n",
      "defaultdict(<class 'int'>, {2: 39, 3: 35, 4: 58, 0: 27, 1: 45})\n",
      "defaultdict(<class 'int'>, {2: 39, 3: 35, 4: 58, 0: 27, 1: 46})\n",
      "defaultdict(<class 'int'>, {2: 40, 3: 35, 4: 58, 0: 27, 1: 46})\n",
      "defaultdict(<class 'int'>, {2: 41, 3: 35, 4: 58, 0: 27, 1: 46})\n",
      "defaultdict(<class 'int'>, {2: 41, 3: 36, 4: 58, 0: 27, 1: 46})\n",
      "defaultdict(<class 'int'>, {2: 41, 3: 36, 4: 59, 0: 27, 1: 46})\n",
      "defaultdict(<class 'int'>, {(2, 3): 25, (2, 4): 27, (3, 2): 25, (3, 4): 21, (4, 2): 27, (4, 3): 21, (0, 1): 14, (0, 3): 5, (1, 0): 14, (1, 3): 9, (3, 0): 5, (3, 1): 9, (0, 2): 4, (2, 0): 4, (1, 4): 19, (4, 1): 19, (0, 4): 17, (4, 0): 17, (1, 2): 7, (2, 1): 7})\n",
      "defaultdict(<class 'int'>, {(2, 0): 37, (2, 1): 34, (3, 0): 31, (3, 1): 27, (4, 0): 42, (4, 1): 40, (0, 2): 23, (0, 4): 10, (1, 2): 39, (1, 4): 27, (3, 2): 11, (3, 4): 15, (0, 1): 13, (2, 4): 14, (1, 0): 32, (1, 3): 37, (4, 2): 32, (4, 3): 38, (0, 3): 22, (2, 3): 16})\n"
     ]
    }
   ],
   "source": [
    "from collections import defaultdict\n",
    "# Now compute for all possible rules\n",
    "valid_rules = defaultdict(int)\n",
    "invalid_rules = defaultdict(int)\n",
    "num_occurences = defaultdict(int)\n",
    "print (num_occurences)\n",
    "for sample in X:\n",
    "    for premise in range(n_features):\n",
    "        if sample[premise] == 0: continue\n",
    "        # Record that the premise was bought in another transaction\n",
    "        num_occurences[premise] += 1\n",
    "        print (num_occurences)\n",
    "        for conclusion in range(n_features):\n",
    "            if premise == conclusion:  # It makes little sense to measure if X -> X.\n",
    "                continue\n",
    "            if sample[conclusion] == 1:\n",
    "                # This person also bought the conclusion item\n",
    "                valid_rules[(premise, conclusion)] += 1\n",
    "            else:\n",
    "                # This person bought the premise, but not the conclusion\n",
    "                invalid_rules[(premise, conclusion)] += 1\n",
    "print(valid_rules)\n",
    "print(invalid_rules)\n",
    "support = valid_rules\n",
    "confidence = defaultdict(float)\n",
    "for premise, conclusion in valid_rules.keys():\n",
    "    confidence[(premise, conclusion)] = valid_rules[(premise, conclusion)] / num_occurences[premise]"
   ]
  },
  {
   "cell_type": "code",
   "execution_count": 8,
   "metadata": {},
   "outputs": [
    {
     "name": "stdout",
     "output_type": "stream",
     "text": [
      "Rule: If a person buys bread they will also buy milk\n",
      " - Confidence: 0.519\n",
      " - Support: 14\n",
      "\n",
      "Rule: If a person buys milk they will also buy cheese\n",
      " - Confidence: 0.152\n",
      " - Support: 7\n",
      "\n",
      "Rule: If a person buys apples they will also buy cheese\n",
      " - Confidence: 0.694\n",
      " - Support: 25\n",
      "\n",
      "Rule: If a person buys milk they will also buy apples\n",
      " - Confidence: 0.196\n",
      " - Support: 9\n",
      "\n",
      "Rule: If a person buys bread they will also buy apples\n",
      " - Confidence: 0.185\n",
      " - Support: 5\n",
      "\n",
      "Rule: If a person buys apples they will also buy bread\n",
      " - Confidence: 0.139\n",
      " - Support: 5\n",
      "\n",
      "Rule: If a person buys apples they will also buy bananas\n",
      " - Confidence: 0.583\n",
      " - Support: 21\n",
      "\n",
      "Rule: If a person buys apples they will also buy milk\n",
      " - Confidence: 0.250\n",
      " - Support: 9\n",
      "\n",
      "Rule: If a person buys milk they will also buy bananas\n",
      " - Confidence: 0.413\n",
      " - Support: 19\n",
      "\n",
      "Rule: If a person buys cheese they will also buy bananas\n",
      " - Confidence: 0.659\n",
      " - Support: 27\n",
      "\n",
      "Rule: If a person buys cheese they will also buy bread\n",
      " - Confidence: 0.098\n",
      " - Support: 4\n",
      "\n",
      "Rule: If a person buys cheese they will also buy apples\n",
      " - Confidence: 0.610\n",
      " - Support: 25\n",
      "\n",
      "Rule: If a person buys cheese they will also buy milk\n",
      " - Confidence: 0.171\n",
      " - Support: 7\n",
      "\n",
      "Rule: If a person buys bananas they will also buy apples\n",
      " - Confidence: 0.356\n",
      " - Support: 21\n",
      "\n",
      "Rule: If a person buys bread they will also buy bananas\n",
      " - Confidence: 0.630\n",
      " - Support: 17\n",
      "\n",
      "Rule: If a person buys bananas they will also buy cheese\n",
      " - Confidence: 0.458\n",
      " - Support: 27\n",
      "\n",
      "Rule: If a person buys milk they will also buy bread\n",
      " - Confidence: 0.304\n",
      " - Support: 14\n",
      "\n",
      "Rule: If a person buys bananas they will also buy milk\n",
      " - Confidence: 0.322\n",
      " - Support: 19\n",
      "\n",
      "Rule: If a person buys bread they will also buy cheese\n",
      " - Confidence: 0.148\n",
      " - Support: 4\n",
      "\n",
      "Rule: If a person buys bananas they will also buy bread\n",
      " - Confidence: 0.288\n",
      " - Support: 17\n",
      "\n"
     ]
    }
   ],
   "source": [
    "for premise, conclusion in confidence:\n",
    "    premise_name = features[premise]\n",
    "    conclusion_name = features[conclusion]\n",
    "    print(\"Rule: If a person buys {0} they will also buy {1}\".format(premise_name, conclusion_name))\n",
    "    print(\" - Confidence: {0:.3f}\".format(confidence[(premise, conclusion)]))\n",
    "    print(\" - Support: {0}\".format(support[(premise, conclusion)]))\n",
    "    print(\"\")"
   ]
  },
  {
   "cell_type": "code",
   "execution_count": 18,
   "metadata": {
    "collapsed": true
   },
   "outputs": [],
   "source": [
    "def print_rule(premise, conclusion, support, confidence, features):\n",
    "    premise_name = features[premise]\n",
    "    conclusion_name = features[conclusion]\n",
    "    print(\"Rule: If a person buys {0} they will also buy {1}\".format(premise_name, conclusion_name))\n",
    "    print(\" - Confidence: {0:.3f}\".format(confidence[(premise, conclusion)]))\n",
    "    print(\" - Support: {0}\".format(support[(premise, conclusion)]))\n",
    "    print(\"\")"
   ]
  },
  {
   "cell_type": "code",
   "execution_count": 10,
   "metadata": {
    "scrolled": true
   },
   "outputs": [
    {
     "name": "stdout",
     "output_type": "stream",
     "text": [
      "Rule: If a person buys milk they will also buy apples\n",
      " - Confidence: 0.196\n",
      " - Support: 9\n",
      "\n"
     ]
    }
   ],
   "source": [
    "premise = 1\n",
    "conclusion = 3\n",
    "print_rule(premise, conclusion, support, confidence, features)"
   ]
  },
  {
   "cell_type": "code",
   "execution_count": 11,
   "metadata": {},
   "outputs": [
    {
     "name": "stdout",
     "output_type": "stream",
     "text": [
      "[((0, 1), 14),\n",
      " ((1, 2), 7),\n",
      " ((3, 2), 25),\n",
      " ((1, 3), 9),\n",
      " ((0, 2), 4),\n",
      " ((3, 0), 5),\n",
      " ((4, 1), 19),\n",
      " ((3, 1), 9),\n",
      " ((1, 4), 19),\n",
      " ((2, 4), 27),\n",
      " ((2, 0), 4),\n",
      " ((2, 3), 25),\n",
      " ((2, 1), 7),\n",
      " ((4, 3), 21),\n",
      " ((0, 4), 17),\n",
      " ((4, 2), 27),\n",
      " ((1, 0), 14),\n",
      " ((3, 4), 21),\n",
      " ((0, 3), 5),\n",
      " ((4, 0), 17)]\n"
     ]
    }
   ],
   "source": [
    "# Sort by support\n",
    "from pprint import pprint\n",
    "pprint(list(support.items()))"
   ]
  },
  {
   "cell_type": "code",
   "execution_count": 12,
   "metadata": {
    "collapsed": true
   },
   "outputs": [],
   "source": [
    "from operator import itemgetter\n",
    "sorted_support = sorted(support.items(), key=itemgetter(1), reverse=True)"
   ]
  },
  {
   "cell_type": "code",
   "execution_count": 13,
   "metadata": {},
   "outputs": [
    {
     "name": "stdout",
     "output_type": "stream",
     "text": [
      "Rule #1\n",
      "Rule: If a person buys cheese they will also buy bananas\n",
      " - Confidence: 0.659\n",
      " - Support: 27\n",
      "\n",
      "Rule #2\n",
      "Rule: If a person buys bananas they will also buy cheese\n",
      " - Confidence: 0.458\n",
      " - Support: 27\n",
      "\n",
      "Rule #3\n",
      "Rule: If a person buys apples they will also buy cheese\n",
      " - Confidence: 0.694\n",
      " - Support: 25\n",
      "\n",
      "Rule #4\n",
      "Rule: If a person buys cheese they will also buy apples\n",
      " - Confidence: 0.610\n",
      " - Support: 25\n",
      "\n",
      "Rule #5\n",
      "Rule: If a person buys bananas they will also buy apples\n",
      " - Confidence: 0.356\n",
      " - Support: 21\n",
      "\n"
     ]
    }
   ],
   "source": [
    "for index in range(5):\n",
    "    print(\"Rule #{0}\".format(index + 1))\n",
    "    (premise, conclusion) = sorted_support[index][0]\n",
    "    print_rule(premise, conclusion, support, confidence, features)"
   ]
  },
  {
   "cell_type": "code",
   "execution_count": 14,
   "metadata": {
    "collapsed": true
   },
   "outputs": [],
   "source": [
    "sorted_confidence = sorted(confidence.items(), key=itemgetter(1), reverse=True)"
   ]
  },
  {
   "cell_type": "code",
   "execution_count": 15,
   "metadata": {},
   "outputs": [
    {
     "name": "stdout",
     "output_type": "stream",
     "text": [
      "Rule #1\n",
      "Rule: If a person buys apples they will also buy cheese\n",
      " - Confidence: 0.694\n",
      " - Support: 25\n",
      "\n",
      "Rule #2\n",
      "Rule: If a person buys cheese they will also buy bananas\n",
      " - Confidence: 0.659\n",
      " - Support: 27\n",
      "\n",
      "Rule #3\n",
      "Rule: If a person buys bread they will also buy bananas\n",
      " - Confidence: 0.630\n",
      " - Support: 17\n",
      "\n",
      "Rule #4\n",
      "Rule: If a person buys cheese they will also buy apples\n",
      " - Confidence: 0.610\n",
      " - Support: 25\n",
      "\n",
      "Rule #5\n",
      "Rule: If a person buys apples they will also buy bananas\n",
      " - Confidence: 0.583\n",
      " - Support: 21\n",
      "\n"
     ]
    }
   ],
   "source": [
    "for index in range(5):\n",
    "    print(\"Rule #{0}\".format(index + 1))\n",
    "    (premise, conclusion) = sorted_confidence[index][0]\n",
    "    print_rule(premise, conclusion, support, confidence, features)"
   ]
  },
  {
   "cell_type": "code",
   "execution_count": null,
   "metadata": {
    "collapsed": true
   },
   "outputs": [],
   "source": []
  }
 ],
 "metadata": {
  "kernelspec": {
   "display_name": "Python 3",
   "language": "python",
   "name": "python3"
  },
  "language_info": {
   "codemirror_mode": {
    "name": "ipython",
    "version": 3
   },
   "file_extension": ".py",
   "mimetype": "text/x-python",
   "name": "python",
   "nbconvert_exporter": "python",
   "pygments_lexer": "ipython3",
   "version": "3.6.1"
  }
 },
 "nbformat": 4,
 "nbformat_minor": 1
}
